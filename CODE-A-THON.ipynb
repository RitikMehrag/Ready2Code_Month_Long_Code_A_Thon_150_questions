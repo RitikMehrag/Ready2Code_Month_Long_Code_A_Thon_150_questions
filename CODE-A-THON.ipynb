{
 "cells": [
  {
   "cell_type": "markdown",
   "id": "f1e14520",
   "metadata": {},
   "source": [
    "<center><H1>CODE-A-THON"
   ]
  },
  {
   "cell_type": "markdown",
   "id": "0e81ac8b",
   "metadata": {},
   "source": [
    "<CENTER><B>--------TASK EXERCISES--------"
   ]
  },
  {
   "cell_type": "markdown",
   "id": "c51b9f89",
   "metadata": {},
   "source": [
    "\n",
    "## <CENTER>TASK EXERCISE : LEVEL 1A\n",
    "    \n",
    "## <CENTER> > > 1.)  CREATE AN EMPTY TUPLE < <"
   ]
  },
  {
   "cell_type": "code",
   "execution_count": 1,
   "id": "cc6cd4f2",
   "metadata": {},
   "outputs": [
    {
     "data": {
      "text/plain": [
       "()"
      ]
     },
     "execution_count": 1,
     "metadata": {},
     "output_type": "execute_result"
    }
   ],
   "source": [
    "Emp_tup = ()           #creating an empty tuple.\n",
    "Emp_tup"
   ]
  },
  {
   "cell_type": "code",
   "execution_count": 2,
   "id": "c7a59a29",
   "metadata": {},
   "outputs": [
    {
     "data": {
      "text/plain": [
       "tuple"
      ]
     },
     "execution_count": 2,
     "metadata": {},
     "output_type": "execute_result"
    }
   ],
   "source": [
    "type(Emp_tup)          #type is used to check its data type"
   ]
  },
  {
   "cell_type": "markdown",
   "id": "9295a59b",
   "metadata": {},
   "source": [
    "## <center> > > 2.)CREATE A TUPLE CONTAINING NAMES OF YOUR SISTERS AND YOUR BROTHERS < <"
   ]
  },
  {
   "cell_type": "code",
   "execution_count": 3,
   "id": "af8aae45",
   "metadata": {},
   "outputs": [],
   "source": [
    "Bro_s = ('rohan','sujal','shobit','harshit')  #Creating Bro's name tuple. "
   ]
  },
  {
   "cell_type": "code",
   "execution_count": 4,
   "id": "4eccceca",
   "metadata": {},
   "outputs": [],
   "source": [
    "sis_s = ('ravena','shefali','meena','anu')    #Creating sis's name tuple."
   ]
  },
  {
   "cell_type": "markdown",
   "id": "297e3193",
   "metadata": {},
   "source": [
    "## <center> > > 3.)JOINING BROTHERS AND SISTERS TUPLES AND ASSIGNING INTO SIBLINGS. < <"
   ]
  },
  {
   "cell_type": "code",
   "execution_count": 5,
   "id": "0b49d18d",
   "metadata": {},
   "outputs": [
    {
     "data": {
      "text/plain": [
       "('rohan', 'sujal', 'shobit', 'harshit', 'ravena', 'shefali', 'meena', 'anu')"
      ]
     },
     "execution_count": 5,
     "metadata": {},
     "output_type": "execute_result"
    }
   ],
   "source": [
    "Siblings = Bro_s + sis_s\n",
    "Siblings"
   ]
  },
  {
   "cell_type": "markdown",
   "id": "72977a91",
   "metadata": {},
   "source": [
    "## <center> > > 4.)HOW MANY SIBLINGS I HAVE?. < <"
   ]
  },
  {
   "cell_type": "code",
   "execution_count": 6,
   "id": "3d88e975",
   "metadata": {},
   "outputs": [
    {
     "name": "stdout",
     "output_type": "stream",
     "text": [
      "how many siblings I have -  8\n"
     ]
    }
   ],
   "source": [
    "print('how many siblings I have - ',len(Siblings))    "
   ]
  },
  {
   "cell_type": "markdown",
   "id": "280c533d",
   "metadata": {},
   "source": [
    "## <center> > > 5).MODIFYING THE SIBLINGS TUPLE AND ADDING THE NAME OF FATHER AND MOTHER AND ASSIGN IT TO FAMILY_MEMBERS.< <"
   ]
  },
  {
   "cell_type": "code",
   "execution_count": 7,
   "id": "a340962a",
   "metadata": {},
   "outputs": [
    {
     "name": "stdout",
     "output_type": "stream",
     "text": [
      "(\"'Father_name' ='Sh.Ashok kumar'\", \"'Mother_name'='Smt.Kiran Bala'\")\n"
     ]
    }
   ],
   "source": [
    "Parents = (\"'Father_name' ='Sh.Ashok kumar'\" , \"'Mother_name'='Smt.Kiran Bala'\")\n",
    "print(Parents)"
   ]
  },
  {
   "cell_type": "code",
   "execution_count": 8,
   "id": "39a45366",
   "metadata": {},
   "outputs": [
    {
     "data": {
      "text/plain": [
       "('rohan',\n",
       " 'sujal',\n",
       " 'shobit',\n",
       " 'harshit',\n",
       " 'ravena',\n",
       " 'shefali',\n",
       " 'meena',\n",
       " 'anu',\n",
       " \"'Father_name' ='Sh.Ashok kumar'\",\n",
       " \"'Mother_name'='Smt.Kiran Bala'\")"
      ]
     },
     "execution_count": 8,
     "metadata": {},
     "output_type": "execute_result"
    }
   ],
   "source": [
    "Family_Members = Siblings + Parents  \n",
    "Family_Members"
   ]
  },
  {
   "cell_type": "code",
   "execution_count": 9,
   "id": "e0751355",
   "metadata": {},
   "outputs": [
    {
     "data": {
      "text/plain": [
       "tuple"
      ]
     },
     "execution_count": 9,
     "metadata": {},
     "output_type": "execute_result"
    }
   ],
   "source": [
    "type(Family_Members)"
   ]
  },
  {
   "cell_type": "markdown",
   "id": "7be45de0",
   "metadata": {},
   "source": [
    "## <CENTER>TASK EXERCISE : LEVEL 1b"
   ]
  },
  {
   "cell_type": "markdown",
   "id": "afdb3be6",
   "metadata": {},
   "source": [
    "### <center> ))1(( unpack siblings and parents from family_members"
   ]
  },
  {
   "cell_type": "code",
   "execution_count": 10,
   "id": "7e4927a7",
   "metadata": {},
   "outputs": [
    {
     "name": "stdout",
     "output_type": "stream",
     "text": [
      "('rohan', 'sujal', 'shobit', 'harshit', 'ravena', 'shefali', 'meena', 'anu', \"'Father_name' ='Sh.Ashok kumar'\", \"'Mother_name'='Smt.Kiran Bala'\")\n"
     ]
    }
   ],
   "source": [
    "print(Family_Members)     #PACKING A TUPLE"
   ]
  },
  {
   "cell_type": "code",
   "execution_count": 11,
   "id": "a7ab4cdb",
   "metadata": {},
   "outputs": [],
   "source": [
    "*siblings,father,mother=Family_Members      #UNPACKING A TUPLE.(*)Asterisk is use to collect remaining values as a list."
   ]
  },
  {
   "cell_type": "code",
   "execution_count": 12,
   "id": "fc13d837",
   "metadata": {},
   "outputs": [
    {
     "name": "stdout",
     "output_type": "stream",
     "text": [
      "['rohan', 'sujal', 'shobit', 'harshit', 'ravena', 'shefali', 'meena', 'anu']\n"
     ]
    }
   ],
   "source": [
    "print(siblings)"
   ]
  },
  {
   "cell_type": "code",
   "execution_count": 13,
   "id": "8ad2d003",
   "metadata": {},
   "outputs": [
    {
     "name": "stdout",
     "output_type": "stream",
     "text": [
      "'Father_name' ='Sh.Ashok kumar''Mother_name'='Smt.Kiran Bala'\n"
     ]
    }
   ],
   "source": [
    "parents=father+mother\n",
    "print(parents)"
   ]
  },
  {
   "cell_type": "markdown",
   "id": "d86ef4a1",
   "metadata": {},
   "source": [
    "###  <center>))2((     CREATE FRUITS, VEGETABLE AND ANIMAL PRODUCTS TUPLE & JOIN THE THREE TUPLES AND ASSIGN IT TO A VARIABLE CALLED FOOD_STUFF_TP."
   ]
  },
  {
   "cell_type": "code",
   "execution_count": 14,
   "id": "afc00fe4",
   "metadata": {},
   "outputs": [
    {
     "name": "stdout",
     "output_type": "stream",
     "text": [
      "('Apple', 'Bnana', 'Grapes', 'Kivi', 'Watermelon') ('Onion', 'Ladyfinger', 'Carrot', 'Ginger', 'Tomato') ('Egg', 'Milk', 'Meat', 'Petfood')\n"
     ]
    }
   ],
   "source": [
    "fruits = ('Apple','Bnana','Grapes','Kivi','Watermelon')\n",
    "vegetable = ('Onion','Ladyfinger','Carrot','Ginger','Tomato')\n",
    "animal_products = ('Egg','Milk','Meat','Petfood')\n",
    "print(fruits,vegetable,animal_products)"
   ]
  },
  {
   "cell_type": "code",
   "execution_count": 15,
   "id": "771c8eea",
   "metadata": {},
   "outputs": [
    {
     "data": {
      "text/plain": [
       "('Apple',\n",
       " 'Bnana',\n",
       " 'Grapes',\n",
       " 'Kivi',\n",
       " 'Watermelon',\n",
       " 'Onion',\n",
       " 'Ladyfinger',\n",
       " 'Carrot',\n",
       " 'Ginger',\n",
       " 'Tomato',\n",
       " 'Egg',\n",
       " 'Milk',\n",
       " 'Meat',\n",
       " 'Petfood')"
      ]
     },
     "execution_count": 15,
     "metadata": {},
     "output_type": "execute_result"
    }
   ],
   "source": [
    "Food_stuff_tp = (fruits+vegetable+animal_products)\n",
    "Food_stuff_tp"
   ]
  },
  {
   "cell_type": "markdown",
   "id": "251110ac",
   "metadata": {},
   "source": [
    "### <center>        ))3(( changing the about food_stuff_tp tuple to a food_stuff_lt list"
   ]
  },
  {
   "cell_type": "code",
   "execution_count": 16,
   "id": "e9827adb",
   "metadata": {},
   "outputs": [
    {
     "data": {
      "text/plain": [
       "tuple"
      ]
     },
     "execution_count": 16,
     "metadata": {},
     "output_type": "execute_result"
    }
   ],
   "source": [
    "type(Food_stuff_tp)"
   ]
  },
  {
   "cell_type": "code",
   "execution_count": 17,
   "id": "53f48cca",
   "metadata": {},
   "outputs": [
    {
     "name": "stdout",
     "output_type": "stream",
     "text": [
      "<class 'list'>\n",
      "['Apple', 'Bnana', 'Grapes', 'Kivi', 'Watermelon', 'Onion', 'Ladyfinger', 'Carrot', 'Ginger', 'Tomato', 'Egg', 'Milk', 'Meat', 'Petfood']\n"
     ]
    }
   ],
   "source": [
    "Food_stuff_lt = list(Food_stuff_tp)                     #changing datatype tuple into list.\n",
    "print(type(Food_stuff_lt))\n",
    "print(Food_stuff_lt)"
   ]
  },
  {
   "cell_type": "code",
   "execution_count": 18,
   "id": "ac563e69",
   "metadata": {},
   "outputs": [
    {
     "data": {
      "text/plain": [
       "list"
      ]
     },
     "execution_count": 18,
     "metadata": {},
     "output_type": "execute_result"
    }
   ],
   "source": [
    "type(Food_stuff_lt)                 #this showing that now it is in list."
   ]
  },
  {
   "cell_type": "code",
   "execution_count": 19,
   "id": "0057856a",
   "metadata": {},
   "outputs": [
    {
     "data": {
      "text/plain": [
       "14"
      ]
     },
     "execution_count": 19,
     "metadata": {},
     "output_type": "execute_result"
    }
   ],
   "source": [
    "len(Food_stuff_lt) "
   ]
  },
  {
   "cell_type": "markdown",
   "id": "7d830095",
   "metadata": {},
   "source": [
    "### <CENTER>))4((SLICE OUT THE MIDDLE ITEM OR ITEMS FROM THE FOOD_STUFF_TP TUPLE OR FOOD_STUFF_LT LIST."
   ]
  },
  {
   "cell_type": "code",
   "execution_count": 20,
   "id": "a79597bf",
   "metadata": {},
   "outputs": [
    {
     "data": {
      "text/plain": [
       "['Apple',\n",
       " 'Bnana',\n",
       " 'Grapes',\n",
       " 'Kivi',\n",
       " 'Watermelon',\n",
       " 'Onion',\n",
       " 'Ladyfinger',\n",
       " 'Carrot',\n",
       " 'Ginger',\n",
       " 'Tomato',\n",
       " 'Egg',\n",
       " 'Milk',\n",
       " 'Meat',\n",
       " 'Petfood']"
      ]
     },
     "execution_count": 20,
     "metadata": {},
     "output_type": "execute_result"
    }
   ],
   "source": [
    "Food_stuff_lt"
   ]
  },
  {
   "cell_type": "code",
   "execution_count": 21,
   "id": "8d20cbb7",
   "metadata": {},
   "outputs": [
    {
     "data": {
      "text/plain": [
       "('Ladyfinger', 'Carrot')"
      ]
     },
     "execution_count": 21,
     "metadata": {},
     "output_type": "execute_result"
    }
   ],
   "source": [
    "Food_stuff_tp[6:8] #middle items of the food_stuff_tp tuple."
   ]
  },
  {
   "cell_type": "code",
   "execution_count": 22,
   "id": "1ba700d2",
   "metadata": {},
   "outputs": [
    {
     "data": {
      "text/plain": [
       "['Ladyfinger', 'Carrot']"
      ]
     },
     "execution_count": 22,
     "metadata": {},
     "output_type": "execute_result"
    }
   ],
   "source": [
    "Food_stuff_lt[6:8]     #middle items of the food_stuff_lt list."
   ]
  },
  {
   "cell_type": "markdown",
   "id": "f85efb7e",
   "metadata": {},
   "source": [
    "### <center>  ))5(( SLICE OUT TJE FIRST THREE AND LAST THREE ITEMS FROM FOOD_STAFF_LT LIST."
   ]
  },
  {
   "cell_type": "code",
   "execution_count": 23,
   "id": "95712b2e",
   "metadata": {},
   "outputs": [
    {
     "data": {
      "text/plain": [
       "['Apple', 'Bnana', 'Grapes', 'Milk', 'Meat', 'Petfood']"
      ]
     },
     "execution_count": 23,
     "metadata": {},
     "output_type": "execute_result"
    }
   ],
   "source": [
    "Food_stuff_lt[0:3]+Food_stuff_lt[11:]                #showing the first three and last three items of the list."
   ]
  },
  {
   "cell_type": "markdown",
   "id": "ff8f49a5",
   "metadata": {},
   "source": [
    "### <center> ))6((DELETING THE FOOD_STAFF_TP TUPLE COMPLETELY."
   ]
  },
  {
   "cell_type": "code",
   "execution_count": 24,
   "id": "55dcafb9",
   "metadata": {},
   "outputs": [
    {
     "data": {
      "text/plain": [
       "('Apple',\n",
       " 'Bnana',\n",
       " 'Grapes',\n",
       " 'Kivi',\n",
       " 'Watermelon',\n",
       " 'Onion',\n",
       " 'Ladyfinger',\n",
       " 'Carrot',\n",
       " 'Ginger',\n",
       " 'Tomato',\n",
       " 'Egg',\n",
       " 'Milk',\n",
       " 'Meat',\n",
       " 'Petfood')"
      ]
     },
     "execution_count": 24,
     "metadata": {},
     "output_type": "execute_result"
    }
   ],
   "source": [
    "Food_stuff_tp"
   ]
  },
  {
   "cell_type": "code",
   "execution_count": 25,
   "id": "bb539a7d",
   "metadata": {},
   "outputs": [],
   "source": [
    "del(Food_stuff_tp)            #deleting an existing tuple completely."
   ]
  },
  {
   "cell_type": "code",
   "execution_count": 26,
   "id": "50a70e08",
   "metadata": {},
   "outputs": [
    {
     "ename": "NameError",
     "evalue": "name 'Food_stuff_tp' is not defined",
     "output_type": "error",
     "traceback": [
      "\u001b[1;31m---------------------------------------------------------------------------\u001b[0m",
      "\u001b[1;31mNameError\u001b[0m                                 Traceback (most recent call last)",
      "Input \u001b[1;32mIn [26]\u001b[0m, in \u001b[0;36m<cell line: 1>\u001b[1;34m()\u001b[0m\n\u001b[1;32m----> 1\u001b[0m \u001b[43mFood_stuff_tp\u001b[49m\n",
      "\u001b[1;31mNameError\u001b[0m: name 'Food_stuff_tp' is not defined"
     ]
    }
   ],
   "source": [
    "Food_stuff_tp                     #this show that their is no any tuple its name is Food_stuff_tp."
   ]
  },
  {
   "cell_type": "markdown",
   "id": "8e42a738",
   "metadata": {},
   "source": [
    "### <center>))7((CHECK IF AN ITEM EXISTS IN TUPLE(NORDIC_COUNTRIES)."
   ]
  },
  {
   "cell_type": "code",
   "execution_count": 27,
   "id": "f66425b0",
   "metadata": {},
   "outputs": [
    {
     "name": "stdout",
     "output_type": "stream",
     "text": [
      "('Demark', 'Finland', 'Iceland', 'Norway', 'Sweden')\n"
     ]
    }
   ],
   "source": [
    "nordic_countries = (\"Demark\",\"Finland\",\"Iceland\",\"Norway\",\"Sweden\")\n",
    "print(nordic_countries)"
   ]
  },
  {
   "cell_type": "code",
   "execution_count": 28,
   "id": "d7b004d9",
   "metadata": {},
   "outputs": [
    {
     "name": "stdout",
     "output_type": "stream",
     "text": [
      "enter the country name:Finland\n",
      "Finland is a nordic country\n"
     ]
    }
   ],
   "source": [
    "nordic_countries = (\"Demark\",\"Finland\",\"Iceland\",\"Norway\",\"Sweden\")\n",
    "c = input(\"enter the country name:\")\n",
    "if  c in nordic_countries:\n",
    "    print(c,\"is a nordic country\")\n",
    "else :\n",
    "    print(c,'is not a nordic country')"
   ]
  },
  {
   "cell_type": "markdown",
   "id": "c6aecfcf",
   "metadata": {},
   "source": [
    "## <CENTER>TASK EXERCISE : LEVEL 2a"
   ]
  },
  {
   "cell_type": "markdown",
   "id": "965e3ad6",
   "metadata": {},
   "source": [
    "### <center>))1((FIND THE LENGTH OF THE SET IT_COMPANIES."
   ]
  },
  {
   "cell_type": "code",
   "execution_count": 29,
   "id": "c0103b78",
   "metadata": {},
   "outputs": [],
   "source": [
    "it_companies = {'Facebook','Google','Microsoft','Apple','IBM','Oracle','Amazon'}"
   ]
  },
  {
   "cell_type": "code",
   "execution_count": 30,
   "id": "01f64454",
   "metadata": {},
   "outputs": [
    {
     "data": {
      "text/plain": [
       "7"
      ]
     },
     "execution_count": 30,
     "metadata": {},
     "output_type": "execute_result"
    }
   ],
   "source": [
    "len(it_companies)"
   ]
  },
  {
   "cell_type": "code",
   "execution_count": 31,
   "id": "b8462575",
   "metadata": {},
   "outputs": [
    {
     "data": {
      "text/plain": [
       "set"
      ]
     },
     "execution_count": 31,
     "metadata": {},
     "output_type": "execute_result"
    }
   ],
   "source": [
    "type(it_companies)"
   ]
  },
  {
   "cell_type": "markdown",
   "id": "8efba41f",
   "metadata": {},
   "source": [
    "### <center>))2((ADDING TWIITER TO IT_COMPANIES."
   ]
  },
  {
   "cell_type": "code",
   "execution_count": 32,
   "id": "e7777f59",
   "metadata": {},
   "outputs": [
    {
     "name": "stdout",
     "output_type": "stream",
     "text": [
      "{'Facebook', 'IBM', 'Amazon', 'Google', 'Microsoft', 'Twitter', 'Apple', 'Oracle'}\n"
     ]
    }
   ],
   "source": [
    "it_companies.add('Twitter')                 # add function is used to add something in your set \n",
    "print(it_companies)                         # NOTE -- but it add alphabetically"
   ]
  },
  {
   "cell_type": "markdown",
   "id": "ed68d33a",
   "metadata": {},
   "source": [
    "### <center>))3((INSERT MULTIPLE IT COMPANIES AT ONCE TO THE SET IT_COMPANIES"
   ]
  },
  {
   "cell_type": "code",
   "execution_count": 33,
   "id": "bf240b24",
   "metadata": {},
   "outputs": [],
   "source": [
    "IT_Companies = {'HCL Technogies','Mphasis Ltd','Tech Mahindra','SolidData','Digital Rocketship'}"
   ]
  },
  {
   "cell_type": "code",
   "execution_count": 34,
   "id": "574038f0",
   "metadata": {},
   "outputs": [
    {
     "name": "stdout",
     "output_type": "stream",
     "text": [
      "{'Facebook', 'SolidData', 'Amazon', 'HCL Technogies', 'Microsoft', 'Twitter', 'Mphasis Ltd', 'Digital Rocketship', 'Apple', 'IBM', 'Tech Mahindra', 'Google', 'Oracle'}\n"
     ]
    }
   ],
   "source": [
    "it_companies.update(IT_Companies)   #inserting multiple IT companies at once to the set it_companies by using update function.\n",
    "print(it_companies)"
   ]
  },
  {
   "cell_type": "markdown",
   "id": "2b27aaae",
   "metadata": {},
   "source": [
    "### <center>))4((REMOVE ONE OF THE COMPANIES FROM THE SET IT_COMPANIES."
   ]
  },
  {
   "cell_type": "code",
   "execution_count": 35,
   "id": "5cd702cb",
   "metadata": {},
   "outputs": [
    {
     "name": "stdout",
     "output_type": "stream",
     "text": [
      "{'SolidData', 'Amazon', 'HCL Technogies', 'Microsoft', 'Twitter', 'Mphasis Ltd', 'Digital Rocketship', 'Apple', 'IBM', 'Tech Mahindra', 'Google', 'Oracle'}\n"
     ]
    }
   ],
   "source": [
    "it_companies.remove('Facebook')             #remove function is used to remove that certain data from your given dataset.\n",
    "print(it_companies)                   "
   ]
  },
  {
   "cell_type": "markdown",
   "id": "6fa241b4",
   "metadata": {},
   "source": [
    "### <center>))5(( DIFFFERENCE B/W REMOVE AND DISCARD FUNCTION.."
   ]
  },
  {
   "cell_type": "code",
   "execution_count": 36,
   "id": "44b51f2b",
   "metadata": {},
   "outputs": [],
   "source": [
    "rr = {'Mphasis Ltd','Tech Mahindra','Twitter'}"
   ]
  },
  {
   "cell_type": "code",
   "execution_count": 37,
   "id": "2fe40b18",
   "metadata": {},
   "outputs": [
    {
     "name": "stdout",
     "output_type": "stream",
     "text": [
      "{'Mphasis Ltd', 'Tech Mahindra'}\n"
     ]
    }
   ],
   "source": [
    "rr.remove('Twitter')                            #using remove function.\n",
    "print(rr)"
   ]
  },
  {
   "cell_type": "code",
   "execution_count": 38,
   "id": "180fb0b0",
   "metadata": {},
   "outputs": [
    {
     "ename": "KeyError",
     "evalue": "'Twiiter'",
     "output_type": "error",
     "traceback": [
      "\u001b[1;31m---------------------------------------------------------------------------\u001b[0m",
      "\u001b[1;31mKeyError\u001b[0m                                  Traceback (most recent call last)",
      "Input \u001b[1;32mIn [38]\u001b[0m, in \u001b[0;36m<cell line: 1>\u001b[1;34m()\u001b[0m\n\u001b[1;32m----> 1\u001b[0m \u001b[43mrr\u001b[49m\u001b[38;5;241;43m.\u001b[39;49m\u001b[43mremove\u001b[49m\u001b[43m(\u001b[49m\u001b[38;5;124;43m'\u001b[39;49m\u001b[38;5;124;43mTwiiter\u001b[39;49m\u001b[38;5;124;43m'\u001b[39;49m\u001b[43m)\u001b[49m\n",
      "\u001b[1;31mKeyError\u001b[0m: 'Twiiter'"
     ]
    }
   ],
   "source": [
    "rr.remove('Twiiter')                      #again using remove function it will raise KeyError. as compare to discard function."
   ]
  },
  {
   "cell_type": "code",
   "execution_count": 39,
   "id": "2bc4bcd1",
   "metadata": {},
   "outputs": [],
   "source": [
    "rt = {'Mphasis Ltd','Tech Mahindra','Twitter'}"
   ]
  },
  {
   "cell_type": "code",
   "execution_count": 40,
   "id": "e990cf34",
   "metadata": {},
   "outputs": [
    {
     "name": "stdout",
     "output_type": "stream",
     "text": [
      "{'Mphasis Ltd', 'Tech Mahindra'}\n"
     ]
    }
   ],
   "source": [
    "rt.discard('Twitter')                             #Using discard fucntion \n",
    "print(rr)"
   ]
  },
  {
   "cell_type": "code",
   "execution_count": 41,
   "id": "164e5b5f",
   "metadata": {},
   "outputs": [],
   "source": [
    "rt.discard('Twitter')          #again using discard function it will not raise any KeyError. as compare to remove function."
   ]
  },
  {
   "cell_type": "raw",
   "id": "62fbbda9",
   "metadata": {},
   "source": [
    "In python, set class provide a member function remove() to delete an element from the set.It raise a __KEYERROR__ if the element is not present in the set or you are not sure that the value to be deleted exists in the set or not.\n",
    "                                                                                                    But in python,set class also provided a function discard()to remove an element from set. Which does not throw any Error unlike remove() function because it accepts an element as an argument and if that element exists in the set, then it deletes that otherwise it does nothing."
   ]
  },
  {
   "cell_type": "markdown",
   "id": "da4714ff",
   "metadata": {},
   "source": [
    "## <CENTER>TASK EXERCISE : LEVEL 2b"
   ]
  },
  {
   "cell_type": "markdown",
   "id": "75ca8df4",
   "metadata": {},
   "source": [
    "### <CENTER>))1((JOIN A AND B"
   ]
  },
  {
   "cell_type": "code",
   "execution_count": 42,
   "id": "72f5a6b9",
   "metadata": {},
   "outputs": [],
   "source": [
    "A={19,22,24,20,25,26}                                     #creating two data sets \n",
    "B={19,22,20,25,26,24,28,27}"
   ]
  },
  {
   "cell_type": "code",
   "execution_count": 43,
   "id": "5942d64c",
   "metadata": {},
   "outputs": [
    {
     "name": "stdout",
     "output_type": "stream",
     "text": [
      "{19, 20, 22, 24, 25, 26, 27, 28}\n"
     ]
    }
   ],
   "source": [
    "set_union = A.union(B)                                     # A union B means join the values of set A&B but only once time no\n",
    "print(set_union)                                           #  repeat because duplication is nit possible in sets. "
   ]
  },
  {
   "cell_type": "markdown",
   "id": "c804d7c9",
   "metadata": {},
   "source": [
    "### <CENTER>))2((FIND A INTERSECTION B"
   ]
  },
  {
   "cell_type": "code",
   "execution_count": 44,
   "id": "9fcddf7b",
   "metadata": {},
   "outputs": [
    {
     "name": "stdout",
     "output_type": "stream",
     "text": [
      "{19, 20, 22, 24, 25, 26}\n"
     ]
    }
   ],
   "source": [
    "set_intersection = A.intersection(B)\n",
    "print(set_intersection)"
   ]
  },
  {
   "cell_type": "markdown",
   "id": "e80ab460",
   "metadata": {},
   "source": [
    "### <CENTER>))3((IS A SUBSET OF B"
   ]
  },
  {
   "cell_type": "code",
   "execution_count": 45,
   "id": "159a88cf",
   "metadata": {},
   "outputs": [
    {
     "name": "stdout",
     "output_type": "stream",
     "text": [
      "True\n"
     ]
    }
   ],
   "source": [
    "subset = A.issubset(B)\n",
    "print(subset)"
   ]
  },
  {
   "cell_type": "markdown",
   "id": "b065d555",
   "metadata": {},
   "source": [
    "### <CENTER>))4((ARE A AND B DISJOINT SETS"
   ]
  },
  {
   "cell_type": "code",
   "execution_count": 46,
   "id": "435bf0b5",
   "metadata": {},
   "outputs": [
    {
     "name": "stdout",
     "output_type": "stream",
     "text": [
      "False\n"
     ]
    }
   ],
   "source": [
    "disjoint_set = A.isdisjoint(B)\n",
    "print(disjoint_set)"
   ]
  },
  {
   "cell_type": "code",
   "execution_count": 47,
   "id": "489d4c9e",
   "metadata": {},
   "outputs": [
    {
     "name": "stdout",
     "output_type": "stream",
     "text": [
      "False\n"
     ]
    }
   ],
   "source": [
    "disjoint_sett = B.isdisjoint(A)\n",
    "print(disjoint_set)"
   ]
  },
  {
   "cell_type": "markdown",
   "id": "b2a46ca1",
   "metadata": {},
   "source": [
    "### <CENTER>))5((JOIN A WITH B AND B WITH A"
   ]
  },
  {
   "cell_type": "code",
   "execution_count": 48,
   "id": "eba47481",
   "metadata": {},
   "outputs": [
    {
     "data": {
      "text/plain": [
       "{19, 20, 22, 24, 25, 26, 27, 28}"
      ]
     },
     "execution_count": 48,
     "metadata": {},
     "output_type": "execute_result"
    }
   ],
   "source": [
    "join_aB = A.union(B)\n",
    "join_aB"
   ]
  },
  {
   "cell_type": "code",
   "execution_count": 49,
   "id": "14655609",
   "metadata": {},
   "outputs": [
    {
     "data": {
      "text/plain": [
       "{19, 20, 22, 24, 25, 26, 27, 28}"
      ]
     },
     "execution_count": 49,
     "metadata": {},
     "output_type": "execute_result"
    }
   ],
   "source": [
    "join_bA = B.union(A)\n",
    "join_bA"
   ]
  },
  {
   "cell_type": "markdown",
   "id": "9771b863",
   "metadata": {},
   "source": [
    "### <CENTER>))6(( WHAT IS THE SYMMETRIC DIFFERENCE BETWEEN A AND B"
   ]
  },
  {
   "cell_type": "code",
   "execution_count": 50,
   "id": "24520374",
   "metadata": {
    "scrolled": true
   },
   "outputs": [
    {
     "name": "stdout",
     "output_type": "stream",
     "text": [
      "{27, 28}\n"
     ]
    }
   ],
   "source": [
    "sym_dif = A.symmetric_difference(B)\n",
    "print(sym_dif)"
   ]
  },
  {
   "cell_type": "markdown",
   "id": "05ff8e07",
   "metadata": {},
   "source": [
    "We use symmetric_difference() to return a new set sys_dif that only stores those values that are not present in the previous 2 sets(A & B)."
   ]
  },
  {
   "cell_type": "markdown",
   "id": "4b1d14c4",
   "metadata": {},
   "source": [
    "### <CENTER>))7((DELETE THE SETS COMPLETELY"
   ]
  },
  {
   "cell_type": "code",
   "execution_count": 51,
   "id": "a950cd22",
   "metadata": {},
   "outputs": [
    {
     "data": {
      "text/plain": [
       "('A data',\n",
       " {19, 20, 22, 24, 25, 26},\n",
       " 'B data',\n",
       " {19, 20, 22, 24, 25, 26, 27, 28},\n",
       " 'union data',\n",
       " {19, 20, 22, 24, 25, 26, 27, 28},\n",
       " 'intersection data',\n",
       " {19, 20, 22, 24, 25, 26},\n",
       " 'subset data',\n",
       " True,\n",
       " 'disjoint data',\n",
       " False,\n",
       " 'disjointt data',\n",
       " False,\n",
       " 'joinab data',\n",
       " {19, 20, 22, 24, 25, 26, 27, 28},\n",
       " 'joinba data',\n",
       " {19, 20, 22, 24, 25, 26, 27, 28},\n",
       " 'sys data',\n",
       " {27, 28})"
      ]
     },
     "execution_count": 51,
     "metadata": {},
     "output_type": "execute_result"
    }
   ],
   "source": [
    "sets=\"A data\",A,\"B data\",B,\"union data\",set_union,\"intersection data\",set_intersection,\"subset data\",subset,\"disjoint data\",disjoint_set,\"disjointt data\",disjoint_sett,\"joinab data\",join_aB,\"joinba data\",join_bA,\"sys data\",sym_dif\n",
    "sets       #ALL THE ABOVE SETS ARE STORED IN SETS NAME VARAIBLE."
   ]
  },
  {
   "cell_type": "code",
   "execution_count": 52,
   "id": "17b1b7a9",
   "metadata": {},
   "outputs": [],
   "source": [
    "del(sets)          #FOR DELETION OF SETS."
   ]
  },
  {
   "cell_type": "code",
   "execution_count": 53,
   "id": "608ba212",
   "metadata": {},
   "outputs": [
    {
     "ename": "NameError",
     "evalue": "name 'sets' is not defined",
     "output_type": "error",
     "traceback": [
      "\u001b[1;31m---------------------------------------------------------------------------\u001b[0m",
      "\u001b[1;31mNameError\u001b[0m                                 Traceback (most recent call last)",
      "Input \u001b[1;32mIn [53]\u001b[0m, in \u001b[0;36m<cell line: 1>\u001b[1;34m()\u001b[0m\n\u001b[1;32m----> 1\u001b[0m \u001b[43msets\u001b[49m\n",
      "\u001b[1;31mNameError\u001b[0m: name 'sets' is not defined"
     ]
    }
   ],
   "source": [
    "sets       #means all the sets are completely deleted."
   ]
  },
  {
   "cell_type": "markdown",
   "id": "cbef2cb5",
   "metadata": {},
   "source": [
    "## <CENTER>TASK EXERCISE : LEVEL 2C"
   ]
  },
  {
   "cell_type": "markdown",
   "id": "b79a05cd",
   "metadata": {},
   "source": [
    "### <CENTER>))1((CONVERT THE AGES TO A SET AND COMPARE THE LENGTH OF THE LIST AND THE SET THEN SHOWING WHICH ONE IS GREATER."
   ]
  },
  {
   "cell_type": "code",
   "execution_count": 54,
   "id": "eba2af47",
   "metadata": {},
   "outputs": [
    {
     "data": {
      "text/plain": [
       "list"
      ]
     },
     "execution_count": 54,
     "metadata": {},
     "output_type": "execute_result"
    }
   ],
   "source": [
    "age = [22,19,24,25,26,24,25,24]          #HERE AGE IS IN LIST FORM.\n",
    "type(age)"
   ]
  },
  {
   "cell_type": "code",
   "execution_count": 55,
   "id": "e4187f81",
   "metadata": {},
   "outputs": [
    {
     "data": {
      "text/plain": [
       "set"
      ]
     },
     "execution_count": 55,
     "metadata": {},
     "output_type": "execute_result"
    }
   ],
   "source": [
    "age_set = set(age)                    #NOW IT IS IN SET. BY USING SET DATATYPE FOR CONVERTING LIST TO SET.\n",
    "type(age_set)"
   ]
  },
  {
   "cell_type": "code",
   "execution_count": 56,
   "id": "cfe5c913",
   "metadata": {},
   "outputs": [
    {
     "data": {
      "text/plain": [
       "8"
      ]
     },
     "execution_count": 56,
     "metadata": {},
     "output_type": "execute_result"
    }
   ],
   "source": [
    "len(age)          #LENGTH OF THE AGE "
   ]
  },
  {
   "cell_type": "code",
   "execution_count": 57,
   "id": "83efdecb",
   "metadata": {},
   "outputs": [
    {
     "data": {
      "text/plain": [
       "5"
      ]
     },
     "execution_count": 57,
     "metadata": {},
     "output_type": "execute_result"
    }
   ],
   "source": [
    "len(age_set)        #LENGTH OF THE SET >LENGTH IS FIND OUT BY USING LEN FUNCTION."
   ]
  },
  {
   "cell_type": "code",
   "execution_count": 58,
   "id": "b94fcdf1",
   "metadata": {},
   "outputs": [
    {
     "data": {
      "text/plain": [
       "False"
      ]
     },
     "execution_count": 58,
     "metadata": {},
     "output_type": "execute_result"
    }
   ],
   "source": [
    "len(age)==len(age_set)           #len of set and list is not equal because in set duplication is not possible."
   ]
  },
  {
   "cell_type": "code",
   "execution_count": 59,
   "id": "3921630c",
   "metadata": {},
   "outputs": [
    {
     "name": "stdout",
     "output_type": "stream",
     "text": [
      "length of the list is greater than the length of the set.\n"
     ]
    }
   ],
   "source": [
    "if len(age)>len(age_set):\n",
    "    print(\"length of the list is greater than the length of the set.\")\n",
    "else:\n",
    "    print(\"length of the set is greater than the length of the list.\")"
   ]
  },
  {
   "cell_type": "markdown",
   "id": "bc7fd405",
   "metadata": {},
   "source": [
    "### <CENTER>))2((DIFFERENCE B/W THE DATATYPES:STRING ,LIST,TUPLE AND SET."
   ]
  },
  {
   "cell_type": "raw",
   "id": "5e85ab1a",
   "metadata": {},
   "source": [
    "# A tuple is a sequence of immutable python objects. Tuples are just like lists with the exception that tuples cannot be changed once declared or tuples are usually faster than lists.\n",
    "\n",
    "# A string is a sequence of characters. It can be declared in python by using double quotes. Strings are immutable means> they cannot be changed.\n",
    "\n",
    "# List are just like the arrays declared in other languages. But the most powerful thing is that list need not to be always homogenous. A single list can contain strings, intergers, as well as objects. List are mutable means> they can be easily changed after declaration as compare to tuple and string.(list can be characters,integers or even another list)\n",
    ">>LIST) You can add new values and delete old ones, you can slice it,you can change values you already stored in it.\n",
    "\n",
    "# Set is a group of similar type of element which is order or unordered,mutable or in set duplication is not possible."
   ]
  },
  {
   "cell_type": "raw",
   "id": "c884127e",
   "metadata": {},
   "source": [
    "_______________________________________________________________________________________________________________________________\n",
    "+++++++++++++++++++++++++++++++++++++++++++++++++++++++++++++++++++++++++++++++++++++++++++++++++++++++++++++++++++++++++++++++\n",
    "\n",
    "1) Datatype           |   1) STRING        |         LIST             |           TUPLE               |        SET\n",
    " \n",
    "  Brackets            | curve brackets      |      Square brackets     |      Curve brackets           |     Braces brackets\n",
    "                      |       ()            |           []             |            ()                 |         {}\n",
    " \n",
    "  Nature              |    Immutable        |        Mutable           |         Immutable             |        Mutable\n",
    "                                           \n",
    "  Looks               |     (\"coding\")      |        [2,4,6,8]         |        ('code','A','thon')    |  {'c','o','d','e','r'}   \n",
    " -----------------combination of character  |change easily in the list |  tup1[2]='A'type error occur  |   unordered mapping \n",
    "                          slicing [0:3]            insert values           doesn't support no changable|   key values called\n",
    "                                                                                    in tuple                dictionary\n",
    "_______________________________________________________________________________________________________________________________\n",
    "+++++++++++++++++++++++++++++++++++++++++++++++++++++++++++++++++++++++++++++++++++++++++++++++++++++++++++++++++++++++++++++++"
   ]
  },
  {
   "cell_type": "code",
   "execution_count": 60,
   "id": "f11ed1c7",
   "metadata": {},
   "outputs": [],
   "source": [
    "st = (\"rtk\")                                                    #STRING"
   ]
  },
  {
   "cell_type": "code",
   "execution_count": 61,
   "id": "b29f7f1a",
   "metadata": {},
   "outputs": [
    {
     "name": "stdout",
     "output_type": "stream",
     "text": [
      "rtk type- <class 'str'>\n"
     ]
    }
   ],
   "source": [
    "print(st,'type-',(type(st)))"
   ]
  },
  {
   "cell_type": "code",
   "execution_count": 62,
   "id": "ec94e9a4",
   "metadata": {},
   "outputs": [
    {
     "name": "stdout",
     "output_type": "stream",
     "text": [
      "[4, 6, 6, 8, 23] -TYPE- <class 'list'>\n"
     ]
    }
   ],
   "source": [
    "l = [4,6,6,8,23]                                                 #LIST\n",
    "print(l,'-TYPE-',type(l))"
   ]
  },
  {
   "cell_type": "code",
   "execution_count": 63,
   "id": "e4e86863",
   "metadata": {},
   "outputs": [
    {
     "name": "stdout",
     "output_type": "stream",
     "text": [
      "('cr', 'to', 'go') -TYPE- <class 'tuple'>\n"
     ]
    }
   ],
   "source": [
    "t = ('cr','to','go')                                             #TUPLE\n",
    "print(t,'-TYPE-',type(t))"
   ]
  },
  {
   "cell_type": "code",
   "execution_count": 64,
   "id": "8424e8f6",
   "metadata": {},
   "outputs": [
    {
     "name": "stdout",
     "output_type": "stream",
     "text": [
      "{'o', 'c', 'e', 'd'} -TYPE- <class 'set'>\n"
     ]
    }
   ],
   "source": [
    "s = {'c','o','d','e'}                                            #SET\n",
    "print(s,'-TYPE-',type(s))"
   ]
  },
  {
   "cell_type": "markdown",
   "id": "33559434",
   "metadata": {},
   "source": [
    "### <CENTER>))3((I AM A TEACHER AND I LOVE TO INSPIRE AND TEACH PEOPLE."
   ]
  },
  {
   "cell_type": "code",
   "execution_count": 65,
   "id": "9d4afb0d",
   "metadata": {},
   "outputs": [
    {
     "name": "stdout",
     "output_type": "stream",
     "text": [
      "UNIQUE_WORDS :- ['i', 'am', 'a', 'teacher', 'and', 'love', 'to', 'inspire', 'teach', 'people']\n",
      "TOTAL NO. OF UNIQUE_WOORDS USED IN SENTENCE :- 10\n"
     ]
    }
   ],
   "source": [
    "line = \"i am a teacher and i love to inspire and teach people\"\n",
    "unique_words_set = []\n",
    "for w in line.split():\n",
    "    if w not in unique_words_set:\n",
    "        unique_words_set.append(w)\n",
    "        \n",
    "print(\"UNIQUE_WORDS :-\",unique_words_set)\n",
    "\n",
    "print(\"TOTAL NO. OF UNIQUE_WOORDS USED IN SENTENCE :-\",len(unique_words_set))"
   ]
  },
  {
   "cell_type": "markdown",
   "id": "463eaae0",
   "metadata": {},
   "source": [
    "## <CENTER>TASK EXERCISE : LEVEL 3a"
   ]
  },
  {
   "cell_type": "markdown",
   "id": "146a6d2e",
   "metadata": {},
   "source": [
    "### <CENTER>))1((CREATING AN EMPTY DICITIONARY CALLED DOG"
   ]
  },
  {
   "cell_type": "code",
   "execution_count": 1,
   "id": "b4f6dcfd",
   "metadata": {},
   "outputs": [],
   "source": [
    "dog = {}"
   ]
  },
  {
   "cell_type": "markdown",
   "id": "fa244629",
   "metadata": {},
   "source": [
    "### <CENTER>))2((ADDING NAME,COLOR,BREED,LEGS,AGE TO THE DOG DICTIONARY"
   ]
  },
  {
   "cell_type": "code",
   "execution_count": 67,
   "id": "ef41f049",
   "metadata": {},
   "outputs": [
    {
     "name": "stdout",
     "output_type": "stream",
     "text": [
      "{'Details': \"'name','color','breed','legs','age'\"}\n"
     ]
    }
   ],
   "source": [
    "dog[\"Details\"]=\"'name','color','breed','legs','age'\"\n",
    "print(dog)"
   ]
  },
  {
   "cell_type": "code",
   "execution_count": 68,
   "id": "d686b9fb",
   "metadata": {},
   "outputs": [
    {
     "data": {
      "text/plain": [
       "dict"
      ]
     },
     "execution_count": 68,
     "metadata": {},
     "output_type": "execute_result"
    }
   ],
   "source": [
    "type(dog)"
   ]
  },
  {
   "cell_type": "markdown",
   "id": "c71cc3af",
   "metadata": {},
   "source": [
    "### <CENTER>))3(( CREATING A STUDENT DICTIONARY AND ADDING FIRST_NAME,GENDER,AGE,MARTIAL STATUS,SKILLS,COUNTRY,CITY AND ADDRESS AS KEYS FOR THE DICTIONARY"
   ]
  },
  {
   "cell_type": "code",
   "execution_count": 69,
   "id": "90ae7e71",
   "metadata": {},
   "outputs": [
    {
     "name": "stdout",
     "output_type": "stream",
     "text": [
      "{'first_name': 'Ritik', 'last_name': 'Mehra', 'gender': 'Male', 'age': 20, 'marital status': 'Single', 'skills': ['python', 'excel', 'html'], 'country': 'USA', 'city': 'Los Angeles, California', 'address': '1463 ambota heights drive'}\n"
     ]
    }
   ],
   "source": [
    "student = {\n",
    "    'first_name':'Ritik',\n",
    "    'last_name':'Mehra',\n",
    "    'gender':'Male',\n",
    "    'age':20,\n",
    "    'marital status':'Single',\n",
    "    'skills':['python','excel','html'],\n",
    "    'country':'USA',\n",
    "    'city':'Los Angeles, California',\n",
    "    'address':'1463 ambota heights drive'\n",
    "                }\n",
    "print(student)"
   ]
  },
  {
   "cell_type": "markdown",
   "id": "63968193",
   "metadata": {},
   "source": [
    "### <CENTER>))4((LENGTH OF THE STUDENT DICTIONARY."
   ]
  },
  {
   "cell_type": "code",
   "execution_count": 70,
   "id": "3093ca0b",
   "metadata": {},
   "outputs": [
    {
     "name": "stdout",
     "output_type": "stream",
     "text": [
      "Length of student dictionary - 9\n"
     ]
    }
   ],
   "source": [
    "print('Length of student dictionary -',len(student))"
   ]
  },
  {
   "cell_type": "markdown",
   "id": "305ffa2a",
   "metadata": {},
   "source": [
    "### <CENTER>))5((GETTING THE VLAUES OF THE SKILLS AND CHECK THE DATATYPE,IT SHOUULD BE A (LIST)"
   ]
  },
  {
   "cell_type": "code",
   "execution_count": 71,
   "id": "f29e4628",
   "metadata": {},
   "outputs": [
    {
     "name": "stdout",
     "output_type": "stream",
     "text": [
      "['python', 'excel', 'html']\n"
     ]
    }
   ],
   "source": [
    "print(student['skills'])               #Names of the skills."
   ]
  },
  {
   "cell_type": "code",
   "execution_count": 72,
   "id": "7c29645d",
   "metadata": {},
   "outputs": [
    {
     "data": {
      "text/plain": [
       "list"
      ]
     },
     "execution_count": 72,
     "metadata": {},
     "output_type": "execute_result"
    }
   ],
   "source": [
    "type(student['skills'])          #it show that skills is a list datatype."
   ]
  },
  {
   "cell_type": "markdown",
   "id": "837e60ba",
   "metadata": {},
   "source": [
    "### <CENTER>))6((MODIFYING THE SKILLS VALUES BY ADDING ONE OR TWO SKILLS"
   ]
  },
  {
   "cell_type": "code",
   "execution_count": 73,
   "id": "7bfce276",
   "metadata": {},
   "outputs": [
    {
     "name": "stdout",
     "output_type": "stream",
     "text": [
      "['python', 'excel', 'html', 'java', 'java', 'java', 'java']\n"
     ]
    }
   ],
   "source": [
    "student['skills'].append('java')\n",
    "print(student['skills'])"
   ]
  },
  {
   "cell_type": "markdown",
   "id": "56e14e59",
   "metadata": {},
   "source": [
    "### <CENTER>))7((GET THE DICTIONARY KEYS AS LIST"
   ]
  },
  {
   "cell_type": "code",
   "execution_count": 74,
   "id": "9460962e",
   "metadata": {},
   "outputs": [
    {
     "data": {
      "text/plain": [
       "dict_keys(['first_name', 'last_name', 'gender', 'age', 'marital status', 'skills', 'country', 'city', 'address'])"
      ]
     },
     "execution_count": 74,
     "metadata": {},
     "output_type": "execute_result"
    }
   ],
   "source": [
    "student.keys()"
   ]
  },
  {
   "cell_type": "code",
   "execution_count": 75,
   "id": "338c664c",
   "metadata": {},
   "outputs": [
    {
     "data": {
      "text/plain": [
       "['first_name',\n",
       " 'last_name',\n",
       " 'gender',\n",
       " 'age',\n",
       " 'marital status',\n",
       " 'skills',\n",
       " 'country',\n",
       " 'city',\n",
       " 'address']"
      ]
     },
     "execution_count": 75,
     "metadata": {},
     "output_type": "execute_result"
    }
   ],
   "source": [
    "key_list= list(student.keys())\n",
    "key_list"
   ]
  },
  {
   "cell_type": "markdown",
   "id": "0e773791",
   "metadata": {},
   "source": [
    "### <CENTER>))8((GET THE DICTIONARY VALUES AS LIST"
   ]
  },
  {
   "cell_type": "code",
   "execution_count": 76,
   "id": "60449c53",
   "metadata": {},
   "outputs": [
    {
     "data": {
      "text/plain": [
       "dict_values(['Ritik', 'Mehra', 'Male', 20, 'Single', ['python', 'excel', 'html', 'java', 'java', 'java', 'java'], 'USA', 'Los Angeles, California', '1463 ambota heights drive'])"
      ]
     },
     "execution_count": 76,
     "metadata": {},
     "output_type": "execute_result"
    }
   ],
   "source": [
    "student.values()"
   ]
  },
  {
   "cell_type": "code",
   "execution_count": 77,
   "id": "a97901df",
   "metadata": {
    "scrolled": true
   },
   "outputs": [
    {
     "data": {
      "text/plain": [
       "['Ritik',\n",
       " 'Mehra',\n",
       " 'Male',\n",
       " 20,\n",
       " 'Single',\n",
       " ['python', 'excel', 'html', 'java', 'java', 'java', 'java'],\n",
       " 'USA',\n",
       " 'Los Angeles, California',\n",
       " '1463 ambota heights drive']"
      ]
     },
     "execution_count": 77,
     "metadata": {},
     "output_type": "execute_result"
    }
   ],
   "source": [
    "val_list= list(student.values())\n",
    "val_list"
   ]
  },
  {
   "cell_type": "markdown",
   "id": "5de6112e",
   "metadata": {},
   "source": [
    "### <CENTER>))9((CHANGE THE DICTIONARY TO A LIST OF TUPLES USING ITEMS()METHOD"
   ]
  },
  {
   "cell_type": "code",
   "execution_count": 78,
   "id": "c1262410",
   "metadata": {},
   "outputs": [
    {
     "data": {
      "text/plain": [
       "[('first_name', 'Ritik'),\n",
       " ('last_name', 'Mehra'),\n",
       " ('gender', 'Male'),\n",
       " ('age', 20),\n",
       " ('marital status', 'Single'),\n",
       " ('skills', ['python', 'excel', 'html', 'java', 'java', 'java', 'java']),\n",
       " ('country', 'USA'),\n",
       " ('city', 'Los Angeles, California'),\n",
       " ('address', '1463 ambota heights drive')]"
      ]
     },
     "execution_count": 78,
     "metadata": {},
     "output_type": "execute_result"
    }
   ],
   "source": [
    "list_of_tuples = list(student.items())\n",
    "list_of_tuples"
   ]
  },
  {
   "cell_type": "markdown",
   "id": "fc43b01c",
   "metadata": {},
   "source": [
    "### <CENTER>))10((DELETE ONE OF THE ITEMS IN THE DICTIONARY"
   ]
  },
  {
   "cell_type": "code",
   "execution_count": 79,
   "id": "d68720c8",
   "metadata": {},
   "outputs": [
    {
     "data": {
      "text/plain": [
       "{'first_name': 'Ritik',\n",
       " 'last_name': 'Mehra',\n",
       " 'gender': 'Male',\n",
       " 'age': 20,\n",
       " 'marital status': 'Single',\n",
       " 'skills': ['python', 'excel', 'html', 'java', 'java', 'java', 'java'],\n",
       " 'city': 'Los Angeles, California',\n",
       " 'address': '1463 ambota heights drive'}"
      ]
     },
     "execution_count": 79,
     "metadata": {},
     "output_type": "execute_result"
    }
   ],
   "source": [
    "del student['country']\n",
    "student"
   ]
  },
  {
   "cell_type": "markdown",
   "id": "0ced974e",
   "metadata": {},
   "source": [
    "### <CENTER>))11((DELETE ONE OF THE DICTIONARIES"
   ]
  },
  {
   "cell_type": "code",
   "execution_count": 2,
   "id": "5e949b39",
   "metadata": {},
   "outputs": [
    {
     "data": {
      "text/plain": [
       "{}"
      ]
     },
     "execution_count": 2,
     "metadata": {},
     "output_type": "execute_result"
    }
   ],
   "source": [
    "dog"
   ]
  },
  {
   "cell_type": "code",
   "execution_count": 82,
   "id": "033c8fe4",
   "metadata": {},
   "outputs": [],
   "source": [
    "del dog             #del keword method is uses"
   ]
  },
  {
   "cell_type": "code",
   "execution_count": 83,
   "id": "bb264edc",
   "metadata": {},
   "outputs": [
    {
     "ename": "NameError",
     "evalue": "name 'dog' is not defined",
     "output_type": "error",
     "traceback": [
      "\u001b[1;31m---------------------------------------------------------------------------\u001b[0m",
      "\u001b[1;31mNameError\u001b[0m                                 Traceback (most recent call last)",
      "Input \u001b[1;32mIn [83]\u001b[0m, in \u001b[0;36m<cell line: 1>\u001b[1;34m()\u001b[0m\n\u001b[1;32m----> 1\u001b[0m \u001b[38;5;28mprint\u001b[39m(\u001b[43mdog\u001b[49m)\n",
      "\u001b[1;31mNameError\u001b[0m: name 'dog' is not defined"
     ]
    }
   ],
   "source": [
    "print(dog)           #means dog name dictionary is deleted successfully."
   ]
  },
  {
   "cell_type": "markdown",
   "id": "30f0d54e",
   "metadata": {},
   "source": [
    "## <CENTER>TASK EXERCISE : LEVEL 4a"
   ]
  },
  {
   "cell_type": "markdown",
   "id": "13e9c0a5",
   "metadata": {},
   "source": [
    "### <CENTER>))1((  CODE TO GET USER INPUT USING INPUT.IF THE USER IS 18 OR OLDER,GIVE FEEDBACK:YOU ARE OLD ENOUGH TO DRIVE.IF BELOW 18GIVE FEEDBACK TO WAIT FOR THE MISSING AMOUNT OF YEARS. "
   ]
  },
  {
   "cell_type": "code",
   "execution_count": 84,
   "id": "9f927429",
   "metadata": {},
   "outputs": [
    {
     "name": "stdout",
     "output_type": "stream",
     "text": [
      "Enter Your Age : 17\n",
      "You Need 1 More Years To Learn To Drive\n"
     ]
    }
   ],
   "source": [
    "Age=int(input('Enter Your Age : '))\n",
    "if Age>=18:\n",
    "    print('You Are Old Enough To Learn To Drive')\n",
    "else:\n",
    "    print('You Need',18-Age,'More Years To Learn To Drive')\n"
   ]
  },
  {
   "cell_type": "markdown",
   "id": "66d161d5",
   "metadata": {},
   "source": [
    "### <CENTER>))2(( CODE TO COMPARE THE VALUES OF MY_AGE AND YOUR AGE.WHO IS OLDER(ME OR YOU).USING INPUT TO GET THE AGE AS INPUT "
   ]
  },
  {
   "cell_type": "code",
   "execution_count": 85,
   "id": "10346173",
   "metadata": {},
   "outputs": [
    {
     "name": "stdout",
     "output_type": "stream",
     "text": [
      "enter your age: 18\n",
      "you are 2 years younger than me.\n"
     ]
    }
   ],
   "source": [
    "Age = int(input('enter your age: '))\n",
    "my_age = 20\n",
    "if Age ==20:\n",
    "    print('we are same in age.')\n",
    "elif Age==21:\n",
    "    print('you are',Age-20,'year older than me.')    \n",
    "elif Age>20:\n",
    "    print('you are',Age-20,'years older than me.')\n",
    "elif Age==19:\n",
    "    print('you are',20-Age,'year younger than me.')\n",
    "else:\n",
    "    print('you are',20-Age,'years younger than me.')\n",
    "    "
   ]
  },
  {
   "cell_type": "markdown",
   "id": "5ac1cca1",
   "metadata": {},
   "source": [
    "### <CENTER>))3((CODE TO GET TWO VALUE FROM THE USER USING INOUT PROMPT. IF A IS GREATER THAN B RETURN A IS GREATER THAN B, IF A IS LESS THAN B RETURN A IS SMALLER THAN B,ELSE A EQUAK TO B."
   ]
  },
  {
   "cell_type": "code",
   "execution_count": 86,
   "id": "f99405ea",
   "metadata": {},
   "outputs": [
    {
     "name": "stdout",
     "output_type": "stream",
     "text": [
      "enter number one : 25\n",
      "enter number second : 29\n",
      "25 is smaller than 29\n"
     ]
    }
   ],
   "source": [
    "a = int(input('enter number one : '))\n",
    "b = int(input('enter number second : '))\n",
    "if a>b:\n",
    "    print(a,'is greater than',b)\n",
    "elif b>a:\n",
    "    print(a,'is smaller than',b)\n",
    "else:\n",
    "    print(a,'is equal to',b)\n"
   ]
  },
  {
   "cell_type": "markdown",
   "id": "0bb4af90",
   "metadata": {},
   "source": [
    "## <CENTER>TASK EXERCISE : LEVEL 4b"
   ]
  },
  {
   "cell_type": "markdown",
   "id": "a8e2635c",
   "metadata": {},
   "source": [
    "### <CENTER>))1(( CODE TO GIVE GRADE TO STUDENTS ACCORDING TO THEIR SCORES."
   ]
  },
  {
   "cell_type": "code",
   "execution_count": 87,
   "id": "e5addc3b",
   "metadata": {},
   "outputs": [
    {
     "name": "stdout",
     "output_type": "stream",
     "text": [
      "Student score is :79\n",
      "Student Grade is B\n"
     ]
    }
   ],
   "source": [
    "# simple program to give grade to student directly according to their scores.\n",
    "score = int(input('Student score is :'))\n",
    "if score>=80 and score<=100:\n",
    "    print('Student Grade is A')\n",
    "elif score>=70 and score<=79:\n",
    "    print('Student Grade is B')\n",
    "elif score>=60 and score<=69:\n",
    "    print('Student Grade is C')\n",
    "elif score>=50 and score<=59:\n",
    "    print('Student Grade is D')\n",
    "elif score<=49:\n",
    "    print('Student Grade is F')\n",
    "else:\n",
    "    print('Wrong score are Entered')"
   ]
  },
  {
   "cell_type": "code",
   "execution_count": 88,
   "id": "fddb6910",
   "metadata": {},
   "outputs": [
    {
     "name": "stdout",
     "output_type": "stream",
     "text": [
      "Enter marks obtained by student in 5 subjects:\n",
      "40\n",
      "35\n",
      "66\n",
      "75\n",
      "88\n",
      "Student Grade is C\n"
     ]
    }
   ],
   "source": [
    "#program with total marks with average to give grade to student.\n",
    "\n",
    "print('Enter marks obtained by student in 5 subjects:')\n",
    "sub1 = int(input())\n",
    "sub2 = int(input())\n",
    "sub3 = int(input())\n",
    "sub4 = int(input())\n",
    "sub5 = int(input())\n",
    "tot_marks = sub1+sub2+sub3+sub4+sub5\n",
    "avg = tot_marks/5\n",
    "\n",
    "if avg>=80 and avg<=100:\n",
    "    print('Student Grade is A')\n",
    "elif avg>=70 and avg<=79:\n",
    "    print('Student Grade is B')\n",
    "elif avg>=60 and avg<=69:\n",
    "    print('Student Grade is C')\n",
    "elif avg>=50 and avg<=59:\n",
    "    print('Student Grade is D')\n",
    "elif avg<=49:\n",
    "    print('Student Grade is F')\n",
    "else:\n",
    "    print('Wrong input you entered')"
   ]
  },
  {
   "cell_type": "markdown",
   "id": "e33249b9",
   "metadata": {},
   "source": [
    "### <CENTER>))2((CODE TO CHECK THE SEASON IS AUTUMN,WINTER,SPRING OR SUMMER.."
   ]
  },
  {
   "cell_type": "code",
   "execution_count": 89,
   "id": "deea4a07",
   "metadata": {},
   "outputs": [
    {
     "name": "stdout",
     "output_type": "stream",
     "text": [
      "ENTER THE MONTH NAME :June\n",
      "SEASON IS SUMMER\n"
     ]
    }
   ],
   "source": [
    "month = (input(\"ENTER THE MONTH NAME :\"))\n",
    "\n",
    "if month in('September','October','November'):\n",
    "    print('SEASON IS AUTUMN')\n",
    "elif month in('December','January','February'):\n",
    "    print('SEASON IS WINTER')    \n",
    "elif month in('March','April','May'):\n",
    "    print('SEASON IS SPRING')\n",
    "elif month in('June','July','August'):\n",
    "    print('SEASON IS SUMMER')    \n",
    "else:\n",
    "    print('WRONG INPUT')"
   ]
  },
  {
   "cell_type": "markdown",
   "id": "2302b590",
   "metadata": {},
   "source": [
    "### ))3(( CODE FOR IF FOLLOWING LIST DOESN'T CONTAIN THAT FRUIT IN LIST THEN ADD THAT FRUIT TO THE LIST OTHERWISE IF FRIUT EXISTS THEN PRINT FRUIT ALREADY EXIST IN THE LIST."
   ]
  },
  {
   "cell_type": "code",
   "execution_count": 90,
   "id": "e57d002c",
   "metadata": {},
   "outputs": [
    {
     "name": "stdout",
     "output_type": "stream",
     "text": [
      "Enter The Fruit Name : Apple\n",
      "['banana', 'orange', 'mango', 'lemon', 'Apple']\n"
     ]
    }
   ],
   "source": [
    "eli = input(\"Enter The Fruit Name : \")\n",
    "fruits_list =  ['banana','orange','mango','lemon']\n",
    "\n",
    "if eli in fruits_list:\n",
    "    print(\"That fruit is already exist in the list\")\n",
    "else: \n",
    "    fruits_list.append(eli)\n",
    "    \n",
    "    print(fruits_list)\n"
   ]
  },
  {
   "cell_type": "markdown",
   "id": "bd77d789",
   "metadata": {},
   "source": [
    "## <CENTER>TASK EXERCISE : LEVEL 4C"
   ]
  },
  {
   "cell_type": "code",
   "execution_count": 3,
   "id": "ca009a26",
   "metadata": {},
   "outputs": [],
   "source": [
    "person = {\n",
    "    'first_name':'Trainee',\n",
    "    'last_name':'coder',\n",
    "    'age':'25',\n",
    "    'country':'India',\n",
    "    'is_married':'False',\n",
    "    'skills': ['Javascript','html','react','Node','MongoDB','python','R','Analytics Software'],\n",
    "    'address':{\n",
    "        'street':'New Delhi,Banglore',\n",
    "        'zipcode':'100010'\n",
    "    }\n",
    "}"
   ]
  },
  {
   "cell_type": "code",
   "execution_count": 4,
   "id": "2f9871d8",
   "metadata": {},
   "outputs": [
    {
     "data": {
      "text/plain": [
       "{'first_name': 'Trainee',\n",
       " 'last_name': 'coder',\n",
       " 'age': '25',\n",
       " 'country': 'India',\n",
       " 'is_married': 'False',\n",
       " 'skills': ['Javascript',\n",
       "  'html',\n",
       "  'react',\n",
       "  'Node',\n",
       "  'MongoDB',\n",
       "  'python',\n",
       "  'R',\n",
       "  'Analytics Software'],\n",
       " 'address': {'street': 'New Delhi,Banglore', 'zipcode': '100010'}}"
      ]
     },
     "execution_count": 4,
     "metadata": {},
     "output_type": "execute_result"
    }
   ],
   "source": [
    "person"
   ]
  },
  {
   "cell_type": "code",
   "execution_count": 97,
   "id": "f257165f",
   "metadata": {},
   "outputs": [
    {
     "name": "stdout",
     "output_type": "stream",
     "text": [
      "first_name\n",
      "last_name\n",
      "age\n",
      "country\n",
      "is_married\n",
      "skills\n",
      "address\n"
     ]
    }
   ],
   "source": [
    "for key in person:\n",
    "    print(key)"
   ]
  },
  {
   "cell_type": "code",
   "execution_count": 98,
   "id": "14ef94fc",
   "metadata": {},
   "outputs": [
    {
     "name": "stdout",
     "output_type": "stream",
     "text": [
      "first_name Trainee\n",
      "last_name coder\n",
      "age 25\n",
      "country India\n",
      "is_married False\n",
      "skills ['Javascript', 'html', 'react', 'Node', 'MongoDB', 'python', 'R', 'Analytics Software']\n",
      "address {'street': 'New Delhi,Banglore', 'zipcode': '100010'}\n"
     ]
    }
   ],
   "source": [
    "for key, value in person.items():\n",
    "    print(key,value)"
   ]
  },
  {
   "cell_type": "markdown",
   "id": "865df116",
   "metadata": {},
   "source": [
    "### ))*((CHECKING THE PERSON DICTIONARY HAS SKILLS KEY,AND PRINT OUT ITS MIDDLE SKILLS IN THE SKILL LIST."
   ]
  },
  {
   "cell_type": "code",
   "execution_count": 99,
   "id": "9571366b",
   "metadata": {},
   "outputs": [
    {
     "name": "stdout",
     "output_type": "stream",
     "text": [
      "Person Dictionary Has Skills Key\n",
      "Middle term is  4.0\n"
     ]
    }
   ],
   "source": [
    "for key in person:\n",
    "    if key == 'skills':\n",
    "        print('Person Dictionary Has Skills Key')                   \n",
    "        print(\"Middle term is \",(len(person['skills'])/2))              #Mid value."
   ]
  },
  {
   "cell_type": "code",
   "execution_count": 100,
   "id": "c82c5f61",
   "metadata": {},
   "outputs": [
    {
     "name": "stdout",
     "output_type": "stream",
     "text": [
      "Middle skill in the skill list is: MongoDB\n"
     ]
    }
   ],
   "source": [
    "print(\"Middle skill in the skill list is:\",person['skills'][4])          "
   ]
  },
  {
   "cell_type": "markdown",
   "id": "b9b7afe3",
   "metadata": {},
   "source": [
    "### ))*((CHECKING PERSON DICTIONARY HAS SKILLS KEY AND IT HAS PYTHON SKILL OR NOT"
   ]
  },
  {
   "cell_type": "code",
   "execution_count": 101,
   "id": "566abc79",
   "metadata": {
    "scrolled": true
   },
   "outputs": [
    {
     "name": "stdout",
     "output_type": "stream",
     "text": [
      "Person Dictionary Has Skills Key\n",
      "Skills Are:  ['Javascript', 'html', 'react', 'Node', 'MongoDB', 'python', 'R', 'Analytics Software']\n",
      "The Result Is True \n",
      "Person has PYTHON SKILL\n"
     ]
    }
   ],
   "source": [
    "for key in person:\n",
    "    if key == 'skills':\n",
    "        print('Person Dictionary Has Skills Key')\n",
    "        if key in person:\n",
    "            a = person['skills']\n",
    "            print('Skills Are: ',a)\n",
    "            if 'python' in a:\n",
    "                print(\"The Result Is\",'python' in a,\"\\nPerson has PYTHON SKILL\")\n",
    "                \n",
    "                "
   ]
  },
  {
   "cell_type": "markdown",
   "id": "565404f8",
   "metadata": {},
   "source": [
    "### ))*(("
   ]
  },
  {
   "cell_type": "code",
   "execution_count": null,
   "id": "2e09edf6",
   "metadata": {},
   "outputs": [],
   "source": [
    "for key in person:\n",
    "    if key == 'skills':\n",
    "        print('Person Dictionary Has Skills Key')\n",
    "        if key in person:\n",
    "            a = person['skills']\n",
    "            print('Skills Are: ',a)\n",
    "            if ['Javascript','html'] in a:\n",
    "                print(\"\")"
   ]
  },
  {
   "cell_type": "code",
   "execution_count": 14,
   "id": "c6630d0f",
   "metadata": {},
   "outputs": [
    {
     "name": "stdout",
     "output_type": "stream",
     "text": [
      "no\n"
     ]
    }
   ],
   "source": [
    "if key in person:\n",
    "    a=person['skills']\n",
    "    if ['Javascript','html','react'] in a:\n",
    "        print(\"He is a front end developer\")\n",
    "    else:\n",
    "        print('no')"
   ]
  },
  {
   "cell_type": "code",
   "execution_count": null,
   "id": "b223558d",
   "metadata": {},
   "outputs": [],
   "source": []
  },
  {
   "cell_type": "code",
   "execution_count": 45,
   "id": "cb136ded",
   "metadata": {},
   "outputs": [
    {
     "name": "stdout",
     "output_type": "stream",
     "text": [
      "input the specailationNode\n",
      "He is  a backend developer\n"
     ]
    }
   ],
   "source": [
    "n = input(\"input the specailation\")\n",
    "if n in (\"Javascript\",\"html\",\"React\"):\n",
    "    print(\"He is a Front End Developer\")\n",
    "elif n in (\"Node\",\"Python\",\"MongobB\"):\n",
    "    print(\"He is  a backend developer\")\n",
    "elif n in (\"React\",\"Node\",\"MongobB\"):\n",
    "    print(\"full stack developer\")\n",
    "else:\n",
    "    print(\"Analist\")"
   ]
  },
  {
   "cell_type": "code",
   "execution_count": null,
   "id": "c751687b",
   "metadata": {},
   "outputs": [],
   "source": []
  },
  {
   "cell_type": "code",
   "execution_count": 44,
   "id": "a08e7dc3",
   "metadata": {},
   "outputs": [
    {
     "name": "stdout",
     "output_type": "stream",
     "text": [
      "Traine coder lives in India.He is not married\n"
     ]
    }
   ],
   "source": [
    "if \"India\" in person['country']:\n",
    "    if\"False\"in person [\"is_married\"]:\n",
    "        print(\"Traine coder lives in India.He is not married\")"
   ]
  },
  {
   "cell_type": "code",
   "execution_count": null,
   "id": "82524935",
   "metadata": {},
   "outputs": [],
   "source": []
  },
  {
   "cell_type": "raw",
   "id": "43cc7b18",
   "metadata": {},
   "source": [
    "country = 'india'\n",
    "status = 'single'\n",
    "if country=='india'or status =='married':\n",
    "    print('Trainee coder lives in',country,'.','he is',status)\n",
    "elif country=='india'or status=='not married':\n",
    "    print('Traine coder lives in',country,'.','he is',status)"
   ]
  },
  {
   "cell_type": "raw",
   "id": "93fee70e",
   "metadata": {},
   "source": [
    "if key =='is_married'\n",
    "    if person\n",
    "\n",
    "\n",
    "'india'or status =='married':\n",
    "    print('Trainee coder lives in',country,'.','he is',status)\n",
    "elif country=='india'or status=='not married':\n",
    "    print('Traine coder lives in',country,'.','he is',status)"
   ]
  },
  {
   "cell_type": "markdown",
   "id": "3b7d2d65",
   "metadata": {},
   "source": [
    "## <CENTER>TASK EXERCISE : LEVEL 5a"
   ]
  },
  {
   "cell_type": "markdown",
   "id": "0a47492b",
   "metadata": {},
   "source": [
    "# 1"
   ]
  },
  {
   "cell_type": "code",
   "execution_count": 15,
   "id": "331c8123",
   "metadata": {},
   "outputs": [
    {
     "name": "stdout",
     "output_type": "stream",
     "text": [
      "0\n",
      "1\n",
      "2\n",
      "3\n",
      "4\n",
      "5\n",
      "6\n",
      "7\n",
      "8\n",
      "9\n",
      "10\n"
     ]
    }
   ],
   "source": [
    "c = 0\n",
    "while c<=10:\n",
    "    print(c)\n",
    "    c=c+1"
   ]
  },
  {
   "cell_type": "markdown",
   "id": "64e4c354",
   "metadata": {},
   "source": [
    "# 2"
   ]
  },
  {
   "cell_type": "code",
   "execution_count": 140,
   "id": "b169212a",
   "metadata": {
    "scrolled": true
   },
   "outputs": [
    {
     "name": "stdout",
     "output_type": "stream",
     "text": [
      "1\n",
      "2\n",
      "3\n",
      "4\n",
      "5\n",
      "6\n",
      "7\n",
      "8\n",
      "9\n",
      "10\n"
     ]
    }
   ],
   "source": [
    "for i in range(1,11):\n",
    "    print(i)"
   ]
  },
  {
   "cell_type": "markdown",
   "id": "e1e47cca",
   "metadata": {},
   "source": [
    "# 3"
   ]
  },
  {
   "cell_type": "code",
   "execution_count": 30,
   "id": "22552142",
   "metadata": {},
   "outputs": [
    {
     "name": "stdout",
     "output_type": "stream",
     "text": [
      "#\n",
      "\n",
      "##\n",
      "\n",
      "###\n",
      "\n",
      "####\n",
      "\n",
      "#####\n",
      "\n",
      "######\n",
      "\n",
      "#######\n",
      "\n"
     ]
    }
   ],
   "source": [
    "for i in range(1,8):\n",
    "    for j in range(1,i+1):\n",
    "        print(\"#\",end=\"\")\n",
    "    print('\\n')"
   ]
  },
  {
   "cell_type": "markdown",
   "id": "23b519c7",
   "metadata": {},
   "source": [
    "# 4"
   ]
  },
  {
   "cell_type": "code",
   "execution_count": 17,
   "id": "ca78cae5",
   "metadata": {},
   "outputs": [
    {
     "name": "stdout",
     "output_type": "stream",
     "text": [
      "########\n",
      "########\n",
      "########\n",
      "########\n",
      "########\n",
      "########\n",
      "########\n",
      "########\n"
     ]
    }
   ],
   "source": [
    "rows=8\n",
    "column=8\n",
    "for i in range (rows):\n",
    "    for j in range(column):\n",
    "        print(\"#\",end=\"\")\n",
    "    print()"
   ]
  },
  {
   "cell_type": "markdown",
   "id": "ad99fd61",
   "metadata": {},
   "source": [
    "# 5"
   ]
  },
  {
   "cell_type": "code",
   "execution_count": 32,
   "id": "8d8a1914",
   "metadata": {},
   "outputs": [
    {
     "name": "stdout",
     "output_type": "stream",
     "text": [
      "0 * 0 = 0\n",
      "1 * 1 = 1\n",
      "2 * 2 = 4\n",
      "3 * 3 = 9\n",
      "4 * 4 = 16\n",
      "5 * 5 = 25\n",
      "6 * 6 = 36\n",
      "7 * 7 = 49\n",
      "8 * 8 = 64\n",
      "9 * 9 = 81\n",
      "10 * 10 = 100\n"
     ]
    }
   ],
   "source": [
    "for i in range(0,11):\n",
    "    print(i,\"*\",i,\"=\",i*i)\n"
   ]
  },
  {
   "cell_type": "markdown",
   "id": "3760bf5d",
   "metadata": {},
   "source": [
    "# 6"
   ]
  },
  {
   "cell_type": "code",
   "execution_count": 33,
   "id": "db403edb",
   "metadata": {},
   "outputs": [
    {
     "name": "stdout",
     "output_type": "stream",
     "text": [
      "python\n",
      "matplotlib\n",
      "scikit-learn\n"
     ]
    }
   ],
   "source": [
    "list = ['python','matplotlib','scikit-learn']\n",
    "for i in list:\n",
    "    print(i)"
   ]
  },
  {
   "cell_type": "markdown",
   "id": "7dc3b210",
   "metadata": {},
   "source": [
    "# 7"
   ]
  },
  {
   "cell_type": "code",
   "execution_count": 34,
   "id": "8726b249",
   "metadata": {},
   "outputs": [
    {
     "name": "stdout",
     "output_type": "stream",
     "text": [
      "0\n",
      "2\n",
      "4\n",
      "6\n",
      "8\n",
      "10\n",
      "12\n",
      "14\n",
      "16\n",
      "18\n",
      "20\n",
      "22\n",
      "24\n",
      "26\n",
      "28\n",
      "30\n",
      "32\n",
      "34\n",
      "36\n",
      "38\n",
      "40\n",
      "42\n",
      "44\n",
      "46\n",
      "48\n",
      "50\n",
      "52\n",
      "54\n",
      "56\n",
      "58\n",
      "60\n",
      "62\n",
      "64\n",
      "66\n",
      "68\n",
      "70\n",
      "72\n",
      "74\n",
      "76\n",
      "78\n",
      "80\n",
      "82\n",
      "84\n",
      "86\n",
      "88\n",
      "90\n",
      "92\n",
      "94\n",
      "96\n",
      "98\n",
      "100\n"
     ]
    }
   ],
   "source": [
    "for i in range (0,101):\n",
    "    if i%2==0:\n",
    "        print(i)"
   ]
  },
  {
   "cell_type": "markdown",
   "id": "a1d86558",
   "metadata": {},
   "source": [
    "# 8"
   ]
  },
  {
   "cell_type": "code",
   "execution_count": 38,
   "id": "7a6be271",
   "metadata": {},
   "outputs": [
    {
     "name": "stdout",
     "output_type": "stream",
     "text": [
      "1 3 5 7 9 11 13 15 17 19 21 23 25 27 29 31 33 35 37 39 41 43 45 47 49 51 53 55 57 59 61 63 65 67 69 71 73 75 77 79 81 83 85 87 89 91 93 95 97 99 "
     ]
    }
   ],
   "source": [
    "start,end = 0,100\n",
    "for num in range(start,end+1):\n",
    "    if num%2!=0:\n",
    "        print(num,end=\" \")"
   ]
  },
  {
   "cell_type": "markdown",
   "id": "4c81fc25",
   "metadata": {},
   "source": [
    "# 5b"
   ]
  },
  {
   "cell_type": "code",
   "execution_count": 39,
   "id": "84207f80",
   "metadata": {},
   "outputs": [
    {
     "name": "stdout",
     "output_type": "stream",
     "text": [
      "The sum of all numbers is 5050\n"
     ]
    }
   ],
   "source": [
    "num = 100\n",
    "total=sum(range(1,num+1))\n",
    "print('The sum of all numbers is',total)"
   ]
  },
  {
   "cell_type": "code",
   "execution_count": 42,
   "id": "9830bf84",
   "metadata": {},
   "outputs": [
    {
     "name": "stdout",
     "output_type": "stream",
     "text": [
      "sum of even number: 2550\n"
     ]
    }
   ],
   "source": [
    "n = 100\n",
    "i = 0\n",
    "sum = 0\n",
    "while(i<=n):\n",
    "    sum=sum+i\n",
    "    i=i+2\n",
    "print('sum of even number:',sum)"
   ]
  },
  {
   "cell_type": "markdown",
   "id": "d7886c35",
   "metadata": {},
   "source": [
    "2"
   ]
  },
  {
   "cell_type": "code",
   "execution_count": 153,
   "id": "31840c32",
   "metadata": {},
   "outputs": [],
   "source": [
    "\n",
    "def circle(r):\n",
    "    return pi*r**2"
   ]
  },
  {
   "cell_type": "code",
   "execution_count": 154,
   "id": "072700d4",
   "metadata": {},
   "outputs": [
    {
     "name": "stdout",
     "output_type": "stream",
     "text": [
      "314.1592653589793\n"
     ]
    }
   ],
   "source": [
    "print(circle(10))"
   ]
  },
  {
   "cell_type": "code",
   "execution_count": null,
   "id": "c66d6a3f",
   "metadata": {},
   "outputs": [],
   "source": []
  },
  {
   "cell_type": "markdown",
   "id": "15294398",
   "metadata": {},
   "source": [
    "### Exercise 13 CREATING WORD CLOUD PRESENTATION IN SECOND NOTEBOOK."
   ]
  },
  {
   "cell_type": "markdown",
   "id": "92dd298a",
   "metadata": {},
   "source": [
    "# <center> TASK EXERCISE:10a"
   ]
  },
  {
   "cell_type": "markdown",
   "id": "a1a30ad9",
   "metadata": {},
   "source": [
    "# 1"
   ]
  },
  {
   "cell_type": "code",
   "execution_count": 20,
   "id": "96f80319",
   "metadata": {},
   "outputs": [
    {
     "name": "stdout",
     "output_type": "stream",
     "text": [
      "Date and Time is: 2022-10-08 15:58:59.555488\n",
      "Timestamp is: 1665269939.555488\n"
     ]
    }
   ],
   "source": [
    "from datetime import datetime\n",
    "dt = datetime.now()\n",
    "ts = datetime.timestamp(dt)\n",
    "print('Date and Time is:',dt)\n",
    "print('Timestamp is:',ts)"
   ]
  },
  {
   "cell_type": "markdown",
   "id": "46b7ac77",
   "metadata": {},
   "source": [
    "# 2"
   ]
  },
  {
   "cell_type": "code",
   "execution_count": 21,
   "id": "2a295828",
   "metadata": {},
   "outputs": [
    {
     "name": "stdout",
     "output_type": "stream",
     "text": [
      "DateTime String: 10/08-2022 16:07:37\n"
     ]
    }
   ],
   "source": [
    "now = datetime.now()\n",
    "date_time_str = now.strftime(\"%m/%d-%Y %H:%M:%S\")\n",
    "print('DateTime String:',date_time_str)"
   ]
  },
  {
   "cell_type": "markdown",
   "id": "a8391fb9",
   "metadata": {},
   "source": [
    "# 3"
   ]
  },
  {
   "cell_type": "code",
   "execution_count": 22,
   "id": "6df8499c",
   "metadata": {},
   "outputs": [
    {
     "name": "stdout",
     "output_type": "stream",
     "text": [
      "20-08-2020\n"
     ]
    }
   ],
   "source": [
    "my_date = \"20-Aug-2020\"\n",
    "d = datetime.strptime(my_date,\"%d-%b-%Y\")\n",
    "print(d.strftime(\"%d-%m-%Y\"))"
   ]
  },
  {
   "cell_type": "markdown",
   "id": "93775569",
   "metadata": {},
   "source": [
    "# 4"
   ]
  },
  {
   "cell_type": "code",
   "execution_count": 23,
   "id": "5e121126",
   "metadata": {},
   "outputs": [],
   "source": [
    "from datetime import datetime\n",
    "import datetime"
   ]
  },
  {
   "cell_type": "code",
   "execution_count": 24,
   "id": "636d999e",
   "metadata": {},
   "outputs": [
    {
     "name": "stdout",
     "output_type": "stream",
     "text": [
      "99 days, 0:00:00\n",
      "<class 'datetime.timedelta'>\n"
     ]
    }
   ],
   "source": [
    "dtt1=datetime.datetime(2022,9,23)\n",
    "dtt2=datetime.datetime(2022,12,31)\n",
    "tdeltaa = dtt2 - dtt1\n",
    "print(tdeltaa)\n",
    "print(type(tdeltaa))"
   ]
  },
  {
   "cell_type": "markdown",
   "id": "cae0a682",
   "metadata": {},
   "source": [
    "# 5"
   ]
  },
  {
   "cell_type": "code",
   "execution_count": 28,
   "id": "a66b003a",
   "metadata": {},
   "outputs": [
    {
     "name": "stdout",
     "output_type": "stream",
     "text": [
      "19346 days, 0:00:00\n",
      "<class 'datetime.timedelta'>\n"
     ]
    }
   ],
   "source": [
    "dt1 = datetime.datetime(1970,1,1)\n",
    "dt2 = datetime.datetime(2022,12,20)\n",
    "tdelt = dt2 - dt1\n",
    "print(tdelt)\n",
    "print(type(tdelt))"
   ]
  },
  {
   "cell_type": "markdown",
   "id": "8afadc28",
   "metadata": {},
   "source": [
    "# 6"
   ]
  },
  {
   "cell_type": "raw",
   "id": "98496482",
   "metadata": {},
   "source": [
    "The timestamp() method of a datetime module returns the POSIX timestamp corresponding to the datetime instance. The return value is float.\n",
    "\n",
    "There are three modules in Python, using which, we can get the timestamp. These are-\n",
    "\n",
    "calendar time datetime\n",
    "\n",
    "Datatime module can be used for adding posts on a blog by using some commands that are very easy to use.\n",
    "\n",
    "It makes things more creative and good.\n",
    "\n",
    "Time Series Analysis in Python considers data collected over time might have some structure; hence it analyses Time Series data to extract its valuable characteristics\n",
    "\n",
    "Timestamp is the pandas equivalent of python's Datetime and is interchangeable with it in most cases. It's the type used for the entries that make up a DatetimeIndex, and other timeseries oriented data structures in pandas. Parameters: ts_input : datetime-like, str, int, float. Value to be converted to Timestamp.\n",
    "\n",
    "What is datetime datetime in Python?\n",
    "datetime in Python is the combination between dates and times. The attributes of this class are similar to both date and separate classes. These attributes include day, month, year, minute, second, microsecond, hour, and tzinfo.\n"
   ]
  },
  {
   "cell_type": "code",
   "execution_count": null,
   "id": "50af8d27",
   "metadata": {},
   "outputs": [],
   "source": []
  },
  {
   "cell_type": "code",
   "execution_count": null,
   "id": "fa4cc82b",
   "metadata": {},
   "outputs": [],
   "source": []
  },
  {
   "cell_type": "code",
   "execution_count": null,
   "id": "14c50a19",
   "metadata": {},
   "outputs": [],
   "source": []
  },
  {
   "cell_type": "markdown",
   "id": "772e5263",
   "metadata": {},
   "source": [
    "# 6a"
   ]
  },
  {
   "cell_type": "markdown",
   "id": "6b6a71ef",
   "metadata": {},
   "source": [
    "# 1"
   ]
  },
  {
   "cell_type": "code",
   "execution_count": 82,
   "id": "e6a68833",
   "metadata": {},
   "outputs": [
    {
     "name": "stdout",
     "output_type": "stream",
     "text": [
      "sum of two no. is  10\n"
     ]
    }
   ],
   "source": [
    "def sum(a,b):\n",
    "    return a+b\n",
    "print(\"sum of two no. is \",sum(8,2))"
   ]
  },
  {
   "cell_type": "markdown",
   "id": "7cc6cfb0",
   "metadata": {},
   "source": [
    "# 2"
   ]
  },
  {
   "cell_type": "code",
   "execution_count": 84,
   "id": "cba816a2",
   "metadata": {},
   "outputs": [],
   "source": [
    "import math as M"
   ]
  },
  {
   "cell_type": "code",
   "execution_count": 85,
   "id": "3ad9dd1a",
   "metadata": {},
   "outputs": [
    {
     "name": "stdout",
     "output_type": "stream",
     "text": [
      "enter the radius of circle:25\n",
      "area of circle is : 1963.4954084936207\n"
     ]
    }
   ],
   "source": [
    "radius=float(input(\"enter the radius of circle:\"))\n",
    "area_of_circle=M.pi*radius*radius\n",
    "print(\"area of circle is :\",area_of_circle)"
   ]
  },
  {
   "cell_type": "markdown",
   "id": "64918dc9",
   "metadata": {},
   "source": [
    "# 3"
   ]
  },
  {
   "cell_type": "code",
   "execution_count": 46,
   "id": "8d812bf8",
   "metadata": {},
   "outputs": [
    {
     "name": "stdout",
     "output_type": "stream",
     "text": [
      "31\n"
     ]
    }
   ],
   "source": [
    "def add_all_numbers(numbers):\n",
    "    total=0\n",
    "    for x in numbers:\n",
    "        total+=x\n",
    "    return total\n",
    "print(add_all_numbers((3,9,6,4,9)))"
   ]
  },
  {
   "cell_type": "markdown",
   "id": "8458d7b0",
   "metadata": {},
   "source": [
    "# 4"
   ]
  },
  {
   "cell_type": "code",
   "execution_count": 47,
   "id": "7052ca64",
   "metadata": {},
   "outputs": [
    {
     "name": "stdout",
     "output_type": "stream",
     "text": [
      "99.5\n"
     ]
    }
   ],
   "source": [
    "celsius=37.5\n",
    "farenheit=(celsius*9/5)+32\n",
    "print(farenheit)"
   ]
  },
  {
   "cell_type": "markdown",
   "id": "46c5da75",
   "metadata": {},
   "source": [
    "# 5"
   ]
  },
  {
   "cell_type": "code",
   "execution_count": 48,
   "id": "2d7f5fbb",
   "metadata": {},
   "outputs": [
    {
     "name": "stdout",
     "output_type": "stream",
     "text": [
      "Spring\n"
     ]
    }
   ],
   "source": [
    "def check_season(month):\n",
    "    season = {\n",
    "        'Spring': ['September', 'October', 'November'],\n",
    "        'Summer': ['December', 'January', 'February'],\n",
    "        'Autumn': ['March', 'April', 'May'],\n",
    "        'Winter': ['June', 'July', 'August']\n",
    "        }\n",
    "    key = season.keys()\n",
    "    for k in key:\n",
    "        if month in season[k]: return k\n",
    "    return 'invalid month'\n",
    " \n",
    "print(check_season('October'))"
   ]
  },
  {
   "cell_type": "markdown",
   "id": "df81579d",
   "metadata": {},
   "source": [
    "# 6"
   ]
  },
  {
   "cell_type": "code",
   "execution_count": 88,
   "id": "d1d88ee1",
   "metadata": {},
   "outputs": [
    {
     "ename": "NameError",
     "evalue": "name 'slope' is not defined",
     "output_type": "error",
     "traceback": [
      "\u001b[1;31m---------------------------------------------------------------------------\u001b[0m",
      "\u001b[1;31mNameError\u001b[0m                                 Traceback (most recent call last)",
      "Input \u001b[1;32mIn [88]\u001b[0m, in \u001b[0;36m<cell line: 10>\u001b[1;34m()\u001b[0m\n\u001b[0;32m      8\u001b[0m x2 \u001b[38;5;241m=\u001b[39m \u001b[38;5;241m2\u001b[39m\n\u001b[0;32m      9\u001b[0m y2 \u001b[38;5;241m=\u001b[39m \u001b[38;5;241m5\u001b[39m\n\u001b[1;32m---> 10\u001b[0m \u001b[38;5;28mprint\u001b[39m (\u001b[38;5;124m\"\u001b[39m\u001b[38;5;124mSlope is :\u001b[39m\u001b[38;5;124m\"\u001b[39m, \u001b[43mslope\u001b[49m(x1, y1, x2, y2))\n",
      "\u001b[1;31mNameError\u001b[0m: name 'slope' is not defined"
     ]
    }
   ],
   "source": [
    "def calculate_slope(x1, y1, x2, y2):\n",
    "    if(x2 - x1 != 0):\n",
    "        return (float)(y2-y1)/(x2-x1)\n",
    "    return sys.maxint\n",
    " \n",
    "x1 = 4\n",
    "y1 = 2\n",
    "x2 = 2\n",
    "y2 = 5\n",
    "print (\"Slope is :\", slope(x1, y1, x2, y2))"
   ]
  },
  {
   "cell_type": "markdown",
   "id": "475c7a0b",
   "metadata": {},
   "source": [
    "# 7"
   ]
  },
  {
   "cell_type": "code",
   "execution_count": 52,
   "id": "b0644687",
   "metadata": {},
   "outputs": [
    {
     "name": "stdout",
     "output_type": "stream",
     "text": [
      " real and different roots \n",
      "2.0\n",
      "-12.0\n"
     ]
    }
   ],
   "source": [
    "import math \n",
    "  \n",
    "def equationroots( a, b, c): \n",
    "  \n",
    "\n",
    "    dis = b * b - 4 * a * c \n",
    "    sqrt_val = math.sqrt(abs(dis)) \n",
    "      \n",
    "    \n",
    "    if dis > 0: \n",
    "        print(\" real and different roots \") \n",
    "        print((-b + sqrt_val)/(2 * a)) \n",
    "        print((-b - sqrt_val)/(2 * a)) \n",
    "      \n",
    "    elif dis == 0: \n",
    "        print(\" real and same roots\") \n",
    "        print(-b / (2 * a)) \n",
    "      \n",
    "    else:\n",
    "        print(\"Complex Roots\") \n",
    "        print(- b / (2 * a), \" + i\", sqrt_val) \n",
    "        print(- b / (2 * a), \" - i\", sqrt_val)\n",
    "        \n",
    "a = 1\n",
    "b = 10\n",
    "c = -24\n",
    "  \n",
    "if a == 0: \n",
    "        print(\"Input correct quadratic equation\") \n",
    "else:\n",
    "    equationroots(a, b, c)"
   ]
  },
  {
   "cell_type": "markdown",
   "id": "5ee2dfbe",
   "metadata": {},
   "source": [
    "# 8"
   ]
  },
  {
   "cell_type": "code",
   "execution_count": 53,
   "id": "e94f2687",
   "metadata": {},
   "outputs": [
    {
     "name": "stdout",
     "output_type": "stream",
     "text": [
      "guava\n",
      "lemon\n",
      "kiwi\n"
     ]
    }
   ],
   "source": [
    "def print_lst(food):\n",
    "    for x in food:\n",
    "        print(x)\n",
    "fruit=['guava','lemon','kiwi']\n",
    "print_lst(fruit)"
   ]
  },
  {
   "cell_type": "markdown",
   "id": "2689c041",
   "metadata": {},
   "source": [
    "# 9"
   ]
  },
  {
   "cell_type": "code",
   "execution_count": 54,
   "id": "fbceef92",
   "metadata": {},
   "outputs": [
    {
     "name": "stdout",
     "output_type": "stream",
     "text": [
      "[1, 2, 3, 4, 5]\n",
      "Reversed list is\n",
      "[5, 4, 3, 2, 1]\n"
     ]
    }
   ],
   "source": [
    "def reverse_List(A, start, end):\n",
    "    while start < end:\n",
    "        A[start], A[end] = A[end], A[start]\n",
    "        start += 1\n",
    "        end -= 1\n",
    "A = [1, 2, 3, 4, 5]\n",
    "print(A)\n",
    "reverse_List(A, 0, 4)\n",
    "print(\"Reversed list is\")\n",
    "print(A)"
   ]
  },
  {
   "cell_type": "code",
   "execution_count": 55,
   "id": "72cb68b3",
   "metadata": {},
   "outputs": [
    {
     "name": "stdout",
     "output_type": "stream",
     "text": [
      "['A', 'B', 'C']\n",
      "Reversed list is\n",
      "['C', 'B', 'A']\n"
     ]
    }
   ],
   "source": [
    "def reverse_List(A, start, end):\n",
    "    while start < end:\n",
    "        A[start], A[end] = A[end], A[start]\n",
    "        start += 1\n",
    "        end -= 1\n",
    "A = ['A', 'B', 'C']\n",
    "print(A)\n",
    "reverse_List(A, 0, 2)\n",
    "print(\"Reversed list is\")\n",
    "print(A)"
   ]
  },
  {
   "cell_type": "markdown",
   "id": "86dff19c",
   "metadata": {},
   "source": [
    "# 10"
   ]
  },
  {
   "cell_type": "code",
   "execution_count": 57,
   "id": "09dbc46a",
   "metadata": {},
   "outputs": [
    {
     "name": "stdout",
     "output_type": "stream",
     "text": [
      "GUAVA\n",
      "LEMON\n",
      "KIWI\n"
     ]
    },
    {
     "data": {
      "text/plain": [
       "['Potato', 'Tomato', 'Mango', 'Milk', 'Milk']"
      ]
     },
     "execution_count": 57,
     "metadata": {},
     "output_type": "execute_result"
    }
   ],
   "source": [
    "def capitalize_lst_item(lst):\n",
    "    for x in lst:\n",
    "        print(x)\n",
    "fruit=['guava','lemon','kiwi']\n",
    "lst=[x.upper() for x in fruit]\n",
    "capitalize_lst_item(lst)\n",
    "def add_item(lst,item):\n",
    "    lst.append(item)\n",
    "    return lst\n",
    "    \n",
    "food_stuff=['Potato','Tomato','Mango','Milk']\n",
    "food_stuff=add_item(food_stuff,'Milk')\n",
    "food_stuff"
   ]
  },
  {
   "cell_type": "markdown",
   "id": "82dd048c",
   "metadata": {},
   "source": [
    "# 11"
   ]
  },
  {
   "cell_type": "code",
   "execution_count": 58,
   "id": "fa79c202",
   "metadata": {},
   "outputs": [
    {
     "data": {
      "text/plain": [
       "[2, 3, 7, 9, 5]"
      ]
     },
     "execution_count": 58,
     "metadata": {},
     "output_type": "execute_result"
    }
   ],
   "source": [
    "def add_item(lst,item):\n",
    "    lst.append(item)\n",
    "    return lst\n",
    "    \n",
    "number=[2,3,7,9]\n",
    "number=add_item(number,5)\n",
    "number"
   ]
  },
  {
   "cell_type": "markdown",
   "id": "30db9d79",
   "metadata": {},
   "source": [
    "# 12"
   ]
  },
  {
   "cell_type": "code",
   "execution_count": 59,
   "id": "b85b38c8",
   "metadata": {},
   "outputs": [
    {
     "data": {
      "text/plain": [
       "['Potato', 'Tomato', 'Milk']"
      ]
     },
     "execution_count": 59,
     "metadata": {},
     "output_type": "execute_result"
    }
   ],
   "source": [
    "def remove_item(lst,item):\n",
    "    lst.remove(item)\n",
    "    return lst\n",
    "    \n",
    "food_stuff=['Potato','Tomato','Mango','Milk']\n",
    "food_stuff=remove_item(food_stuff,'Mango')\n",
    "food_stuff"
   ]
  },
  {
   "cell_type": "markdown",
   "id": "2d674a0e",
   "metadata": {},
   "source": [
    "# 13"
   ]
  },
  {
   "cell_type": "code",
   "execution_count": 89,
   "id": "055cc5de",
   "metadata": {},
   "outputs": [
    {
     "data": {
      "text/plain": [
       "[2, 7, 9]"
      ]
     },
     "execution_count": 89,
     "metadata": {},
     "output_type": "execute_result"
    }
   ],
   "source": [
    "def remove_item(lst,item):\n",
    "    lst.remove(item)\n",
    "    return lst\n",
    "    \n",
    "number=[2,3,7,9]\n",
    "number=remove_item(number,3)\n",
    "number"
   ]
  },
  {
   "cell_type": "markdown",
   "id": "c5390a44",
   "metadata": {},
   "source": [
    "# 15"
   ]
  },
  {
   "cell_type": "code",
   "execution_count": 66,
   "id": "4a2d8e76",
   "metadata": {},
   "outputs": [
    {
     "name": "stdout",
     "output_type": "stream",
     "text": [
      "sum of first  20 even number is:  420\n"
     ]
    }
   ],
   "source": [
    "def sum_of_even(n):\n",
    "    curr = 2\n",
    "    sum = 0\n",
    "    i = 1\n",
    "     \n",
    "    \n",
    "    while i <= n:\n",
    "        sum += curr\n",
    "         \n",
    "        \n",
    "        curr += 2\n",
    "        i = i + 1\n",
    "    return sum\n",
    "n = 20\n",
    "print(\"sum of first \", n, \"even number is: \",\n",
    "      sum_of_even(n))"
   ]
  },
  {
   "cell_type": "markdown",
   "id": "8230098f",
   "metadata": {},
   "source": [
    "# 6b"
   ]
  },
  {
   "cell_type": "raw",
   "id": "8d42f681",
   "metadata": {},
   "source": [
    "2"
   ]
  },
  {
   "cell_type": "code",
   "execution_count": 68,
   "id": "8933153a",
   "metadata": {},
   "outputs": [
    {
     "name": "stdout",
     "output_type": "stream",
     "text": [
      "The factorial of 7 is 5040\n"
     ]
    }
   ],
   "source": [
    "num = 7\n",
    "factorial = 1\n",
    "if num < 0:\n",
    "    print(\"Sorry, factorial does not exist for negative numbers\")\n",
    "elif num == 0:\n",
    "    print(\"The factorial of 0 is 1\")\n",
    "else:\n",
    "    for i in range(1,num + 1):\n",
    "        factorial = factorial*i\n",
    "    print(\"The factorial of\",num,\"is\",factorial)"
   ]
  },
  {
   "cell_type": "markdown",
   "id": "c68a153c",
   "metadata": {},
   "source": [
    "# 3"
   ]
  },
  {
   "cell_type": "code",
   "execution_count": 70,
   "id": "291a6755",
   "metadata": {},
   "outputs": [],
   "source": [
    "def is_empty():\n",
    "    pass\n",
    "mutex=True\n",
    "if(mutex==True):\n",
    "    pass\n",
    "else:\n",
    "    print(\"False\")"
   ]
  },
  {
   "cell_type": "raw",
   "id": "5558acac",
   "metadata": {},
   "source": [
    "4"
   ]
  },
  {
   "cell_type": "code",
   "execution_count": 71,
   "id": "69941293",
   "metadata": {},
   "outputs": [
    {
     "name": "stdout",
     "output_type": "stream",
     "text": [
      "Mean is : 4.428571428571429\n"
     ]
    }
   ],
   "source": [
    "import statistics\n",
    "data1 = [1, 3, 4, 5, 7, 9, 2]\n",
    " \n",
    "x = statistics.mean(data1)\n",
    "print(\"Mean is :\", x)"
   ]
  },
  {
   "cell_type": "code",
   "execution_count": 72,
   "id": "15929af6",
   "metadata": {},
   "outputs": [
    {
     "name": "stdout",
     "output_type": "stream",
     "text": [
      "3\n"
     ]
    }
   ],
   "source": [
    "import statistics\n",
    "number=[1,2,3,4,5]\n",
    "med=statistics.median(number)\n",
    "print(med)"
   ]
  },
  {
   "cell_type": "code",
   "execution_count": 73,
   "id": "469bcb7b",
   "metadata": {},
   "outputs": [
    {
     "name": "stdout",
     "output_type": "stream",
     "text": [
      "1\n"
     ]
    }
   ],
   "source": [
    "number=[1,2,3,4,5]\n",
    "mod=statistics.mode(number)\n",
    "print(mod)"
   ]
  },
  {
   "cell_type": "code",
   "execution_count": 74,
   "id": "47b81709",
   "metadata": {},
   "outputs": [
    {
     "name": "stdout",
     "output_type": "stream",
     "text": [
      "0 2 4 6 8 "
     ]
    }
   ],
   "source": [
    "for i in range(0,10,2):\n",
    "    print(i,end=\" \")"
   ]
  },
  {
   "cell_type": "code",
   "execution_count": 75,
   "id": "e9e42c71",
   "metadata": {},
   "outputs": [
    {
     "name": "stdout",
     "output_type": "stream",
     "text": [
      "0.6666666666666666\n"
     ]
    }
   ],
   "source": [
    "import numpy as np\n",
    "lst=[1,2,3]\n",
    "var=np.var(lst)\n",
    "print(var)"
   ]
  },
  {
   "cell_type": "markdown",
   "id": "27654123",
   "metadata": {},
   "source": [
    "# 6c"
   ]
  },
  {
   "cell_type": "raw",
   "id": "e16ff653",
   "metadata": {},
   "source": [
    "1"
   ]
  },
  {
   "cell_type": "code",
   "execution_count": 76,
   "id": "fb0ad9a1",
   "metadata": {},
   "outputs": [
    {
     "name": "stdout",
     "output_type": "stream",
     "text": [
      "11 is a prime number\n"
     ]
    }
   ],
   "source": [
    "num = 11\n",
    "if num > 1:\n",
    "    \n",
    "    for i in range(2, int(num/2)+1):\n",
    "        if (num % i) == 0:\n",
    "            print(num, \"is not a prime number\")\n",
    "            break\n",
    "    else:\n",
    "        print(num, \"is a prime number\")\n",
    "else:\n",
    "    print(num, \"is not a prime number\")"
   ]
  },
  {
   "cell_type": "raw",
   "id": "f485c22f",
   "metadata": {},
   "source": [
    "2"
   ]
  },
  {
   "cell_type": "code",
   "execution_count": 77,
   "id": "bdd4e2a5",
   "metadata": {},
   "outputs": [
    {
     "name": "stdout",
     "output_type": "stream",
     "text": [
      "The given list :  ['Mon', 'Tue', 'Wed']\n",
      "All elements are unique.\n"
     ]
    }
   ],
   "source": [
    "Alist = ['Mon','Tue','Wed']\n",
    "print(\"The given list : \",Alist)\n",
    "\n",
    "if(len(set(Alist)) == len(Alist)):\n",
    "\n",
    "    print(\"All elements are unique.\")\n",
    "else:\n",
    "    print(\"All elements are not unique.\")"
   ]
  },
  {
   "cell_type": "raw",
   "id": "bfb1c982",
   "metadata": {},
   "source": [
    "3"
   ]
  },
  {
   "cell_type": "code",
   "execution_count": 78,
   "id": "66564a54",
   "metadata": {},
   "outputs": [
    {
     "name": "stdout",
     "output_type": "stream",
     "text": [
      "The original list is : [5, 6, 2, 5, 7, 9]\n",
      "Do all elements have same type : True\n"
     ]
    }
   ],
   "source": [
    "test_list = [5, 6, 2, 5, 7, 9]\n",
    "print(\"The original list is : \" + str(test_list))\n",
    "res = True\n",
    "for ele in test_list:\n",
    "    if not isinstance(ele, type(test_list[0])):\n",
    "        res = False \n",
    "        break\n",
    "print (\"Do all elements have same type : \" + str(res))"
   ]
  },
  {
   "cell_type": "raw",
   "id": "e7f1a812",
   "metadata": {},
   "source": [
    "4"
   ]
  },
  {
   "cell_type": "code",
   "execution_count": 81,
   "id": "883a66cd",
   "metadata": {},
   "outputs": [],
   "source": [
    "from keyword import iskeyword\n",
    "def is_valid_variable_name(name):\n",
    "    return name.isdentifier() and not iskeyword(name)"
   ]
  },
  {
   "cell_type": "code",
   "execution_count": 80,
   "id": "a78bc292",
   "metadata": {},
   "outputs": [
    {
     "data": {
      "text/plain": [
       "<function __main__.is_valid_variable_name(name)>"
      ]
     },
     "execution_count": 80,
     "metadata": {},
     "output_type": "execute_result"
    }
   ],
   "source": [
    "is_valid_variable_name"
   ]
  },
  {
   "cell_type": "code",
   "execution_count": null,
   "id": "10757f9c",
   "metadata": {},
   "outputs": [],
   "source": []
  }
 ],
 "metadata": {
  "kernelspec": {
   "display_name": "Python 3 (ipykernel)",
   "language": "python",
   "name": "python3"
  },
  "language_info": {
   "codemirror_mode": {
    "name": "ipython",
    "version": 3
   },
   "file_extension": ".py",
   "mimetype": "text/x-python",
   "name": "python",
   "nbconvert_exporter": "python",
   "pygments_lexer": "ipython3",
   "version": "3.9.12"
  }
 },
 "nbformat": 4,
 "nbformat_minor": 5
}
